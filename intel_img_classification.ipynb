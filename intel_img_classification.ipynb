{
 "cells": [
  {
   "cell_type": "code",
   "execution_count": 3,
   "metadata": {
    "executionInfo": {
     "elapsed": 8755,
     "status": "ok",
     "timestamp": 1610615956334,
     "user": {
      "displayName": "Rijul Bathla",
      "photoUrl": "",
      "userId": "10083723854193395232"
     },
     "user_tz": -330
    },
    "id": "gOWddFW5WTiQ"
   },
   "outputs": [],
   "source": [
    "!pip install jovian --upgrade --quiet"
   ]
  },
  {
   "cell_type": "markdown",
   "metadata": {
    "id": "OkF_VHKKXPdp"
   },
   "source": [
    "# **OBJECTIVE :**\r\n",
    "\r\n",
    "To classify the images into six different classes. The image data is of natural scenes around the world. The data contains around 25k images of size 150 X 150 distributed under 6 categories. \r\n",
    "\r\n",
    "This dataset is used in this project is taken from kaggle. It was initially published on https://datahack.analyticsvidhya.com by Intel to host a Image classification Challenge."
   ]
  },
  {
   "cell_type": "code",
   "execution_count": 4,
   "metadata": {
    "colab": {
     "base_uri": "https://localhost:8080/"
    },
    "executionInfo": {
     "elapsed": 35813,
     "status": "ok",
     "timestamp": 1610615983406,
     "user": {
      "displayName": "Rijul Bathla",
      "photoUrl": "",
      "userId": "10083723854193395232"
     },
     "user_tz": -330
    },
    "id": "65GYerP-WTiU",
    "outputId": "892fbad6-aa4c-4957-cd1e-e94865e5f104"
   },
   "outputs": [
    {
     "name": "stdout",
     "output_type": "stream",
     "text": [
      "Mounted at /content/drive\n"
     ]
    }
   ],
   "source": [
    "# To change the current directory to Google Drive as the dataset is already loaded there for easy access.\r\n",
    "\r\n",
    "import os \r\n",
    "from google.colab import drive\r\n",
    "\r\n",
    "#mount google drive to use it\r\n",
    "drive.mount('/content/drive')\r\n",
    "\r\n",
    "# the base Google Drive directory\r\n",
    "root_dir = \"/content/drive/My Drive/\"\r\n",
    "\r\n",
    "# choose where you want your project files to be saved\r\n",
    "project_folder = \"Colab Notebooks/My Project Folder/\"\r\n",
    "\r\n",
    "# change the OS to use your project folder as the working directory\r\n",
    "os.chdir(root_dir + project_folder)\r\n"
   ]
  },
  {
   "cell_type": "code",
   "execution_count": 5,
   "metadata": {
    "colab": {
     "base_uri": "https://localhost:8080/"
    },
    "executionInfo": {
     "elapsed": 35798,
     "status": "ok",
     "timestamp": 1610615983407,
     "user": {
      "displayName": "Rijul Bathla",
      "photoUrl": "",
      "userId": "10083723854193395232"
     },
     "user_tz": -330
    },
    "id": "I78hzWybbAEr",
    "outputId": "b9056c41-2882-4282-afc6-ccbfbc8a6963"
   },
   "outputs": [
    {
     "name": "stdout",
     "output_type": "stream",
     "text": [
      "/content/drive/My Drive/Colab Notebooks/My Project Folder\n"
     ]
    }
   ],
   "source": [
    "#To check the current directory \r\n",
    "\r\n",
    "!pwd"
   ]
  },
  {
   "cell_type": "code",
   "execution_count": 6,
   "metadata": {
    "executionInfo": {
     "elapsed": 40947,
     "status": "ok",
     "timestamp": 1610615988572,
     "user": {
      "displayName": "Rijul Bathla",
      "photoUrl": "",
      "userId": "10083723854193395232"
     },
     "user_tz": -330
    },
    "id": "fN3Df4dTc08n"
   },
   "outputs": [],
   "source": [
    "# Importing required libraries\r\n",
    "\r\n",
    "import torch\r\n",
    "import pandas as pd\r\n",
    "import numpy as np\r\n",
    "from torch.utils.data import Dataset, random_split, DataLoader\r\n",
    "from PIL import Image\r\n",
    "import torchvision.models as models\r\n",
    "import matplotlib.pyplot as plt\r\n",
    "import torchvision.transforms as T\r\n",
    "from sklearn.metrics import f1_score\r\n",
    "import torch.nn.functional as F\r\n",
    "import torch.nn as nn\r\n",
    "from torchvision.datasets import ImageFolder\r\n",
    "from torchvision.utils import make_grid\r\n",
    "%matplotlib inline"
   ]
  },
  {
   "cell_type": "markdown",
   "metadata": {
    "id": "J0SAdsfwZNWG"
   },
   "source": [
    "The dataset is already downloaded into current directory using kaggle api command. Then it is unzipped into the project folder. "
   ]
  },
  {
   "cell_type": "code",
   "execution_count": 7,
   "metadata": {
    "colab": {
     "base_uri": "https://localhost:8080/"
    },
    "executionInfo": {
     "elapsed": 40936,
     "status": "ok",
     "timestamp": 1610615988573,
     "user": {
      "displayName": "Rijul Bathla",
      "photoUrl": "",
      "userId": "10083723854193395232"
     },
     "user_tz": -330
    },
    "id": "1NbguLpOckh6",
    "outputId": "7f77b984-ef71-4b00-ec10-dbe7454ea022"
   },
   "outputs": [
    {
     "name": "stdout",
     "output_type": "stream",
     "text": [
      "['new_file_in_working_directory.txt', 'kaggle.json', 'intel-image-classification.zip', 'intel_image_data', 'seg_pred', 'seg_test', 'seg_train', 'IntelImageClassification.pth']\n",
      "\n",
      " ['buildings', 'forest', 'glacier', 'mountain', 'sea', 'street']\n"
     ]
    }
   ],
   "source": [
    "# Looking into current directory\r\n",
    "\r\n",
    "DATA_DIR = '.'\r\n",
    "\r\n",
    "# Contains training images\r\n",
    "TRAIN_DIR = DATA_DIR + '/seg_train/seg_train'                          \r\n",
    "\r\n",
    "# Contains testing images\r\n",
    "TEST_DIR = DATA_DIR + '/seg_test/seg_test'            \r\n",
    "\r\n",
    "# Contains images to predict\r\n",
    "PRED_DIR = DATA_DIR + '/seg_pred'      \r\n",
    "\r\n",
    "# Printing all the files of the current folder\r\n",
    "print(os.listdir(DATA_DIR))\r\n",
    "\r\n",
    "# Getting classes/labels for classification\r\n",
    "classes = os.listdir(TRAIN_DIR)\r\n",
    "print(\"\\n\",classes)"
   ]
  },
  {
   "cell_type": "markdown",
   "metadata": {
    "id": "5OjqE0qZi_Y8"
   },
   "source": [
    "## Creating training and testing datasets using ImageFolder Class"
   ]
  },
  {
   "cell_type": "code",
   "execution_count": 8,
   "metadata": {
    "executionInfo": {
     "elapsed": 66566,
     "status": "ok",
     "timestamp": 1610616014220,
     "user": {
      "displayName": "Rijul Bathla",
      "photoUrl": "",
      "userId": "10083723854193395232"
     },
     "user_tz": -330
    },
    "id": "OWnKHng-dh6f"
   },
   "outputs": [],
   "source": [
    "# Applying some transformations to the images.\r\n",
    "\r\n",
    "image_size = 75         # image size\r\n",
    "batch_size = 128        # batch size\r\n",
    "\r\n",
    "#Stats from imagenet so that we can use transfer learning\r\n",
    "imagenet_stats = ([0.485, 0.456, 0.406], [0.229, 0.224, 0.225])\r\n",
    "\r\n",
    "# training dataset\r\n",
    "train_ds = ImageFolder(TRAIN_DIR, \r\n",
    "                      transform=T.Compose([ T.Resize(image_size),\r\n",
    "                                            T.Pad(4, padding_mode='reflect'),\r\n",
    "                                            T.RandomCrop(image_size),\r\n",
    "                                            T.ToTensor(),\r\n",
    "                                            T.Normalize(*imagenet_stats)] ) )"
   ]
  },
  {
   "cell_type": "code",
   "execution_count": 9,
   "metadata": {
    "executionInfo": {
     "elapsed": 70976,
     "status": "ok",
     "timestamp": 1610616018644,
     "user": {
      "displayName": "Rijul Bathla",
      "photoUrl": "",
      "userId": "10083723854193395232"
     },
     "user_tz": -330
    },
    "id": "dlmdLCJ2l7WP"
   },
   "outputs": [],
   "source": [
    "# testing dataset (Also used for validation)\r\n",
    "test_ds = ImageFolder(TEST_DIR, \r\n",
    "                      transform=T.Compose([ T.Resize(image_size),\r\n",
    "                                            T.Pad(4, padding_mode='reflect'),\r\n",
    "                                            T.RandomCrop(image_size),\r\n",
    "                                            T.ToTensor(),\r\n",
    "                                            T.Normalize(*imagenet_stats)] ) )"
   ]
  },
  {
   "cell_type": "code",
   "execution_count": 10,
   "metadata": {
    "executionInfo": {
     "elapsed": 111740,
     "status": "ok",
     "timestamp": 1610616059420,
     "user": {
      "displayName": "Rijul Bathla",
      "photoUrl": "",
      "userId": "10083723854193395232"
     },
     "user_tz": -330
    },
    "id": "-BiuExt0mMJe"
   },
   "outputs": [],
   "source": [
    "# prediction dataset\r\n",
    "pred_ds = ImageFolder(PRED_DIR, \r\n",
    "                      transform=T.Compose([ T.Resize(image_size),\r\n",
    "                                            T.Pad(4, padding_mode='reflect'),\r\n",
    "                                            T.RandomCrop(image_size),\r\n",
    "                                            T.ToTensor(),\r\n",
    "                                            T.Normalize(*imagenet_stats)] ) )"
   ]
  },
  {
   "cell_type": "code",
   "execution_count": 11,
   "metadata": {
    "colab": {
     "base_uri": "https://localhost:8080/"
    },
    "executionInfo": {
     "elapsed": 111729,
     "status": "ok",
     "timestamp": 1610616059421,
     "user": {
      "displayName": "Rijul Bathla",
      "photoUrl": "",
      "userId": "10083723854193395232"
     },
     "user_tz": -330
    },
    "id": "5BTwNw2mmbjm",
    "outputId": "8b99474e-5df7-46bd-9fcd-fd84eff0e3b6"
   },
   "outputs": [
    {
     "data": {
      "text/plain": [
       "(14034, 3000, 7301)"
      ]
     },
     "execution_count": 11,
     "metadata": {
      "tags": []
     },
     "output_type": "execute_result"
    }
   ],
   "source": [
    "# To see how many images are there in each dataset\r\n",
    "len(train_ds) , len(test_ds), len(pred_ds)"
   ]
  },
  {
   "cell_type": "code",
   "execution_count": 12,
   "metadata": {
    "executionInfo": {
     "elapsed": 111713,
     "status": "ok",
     "timestamp": 1610616059422,
     "user": {
      "displayName": "Rijul Bathla",
      "photoUrl": "",
      "userId": "10083723854193395232"
     },
     "user_tz": -330
    },
    "id": "Z0h2OzstmuZw"
   },
   "outputs": [],
   "source": [
    "# Helper functions to denormalize and show images.\r\n",
    "\r\n",
    "def denormalize(images, means, stds):\r\n",
    "    if len(images.shape) == 3:\r\n",
    "        images = images.unsqueeze(0)\r\n",
    "    means = torch.tensor(means).reshape(1, 3, 1, 1)\r\n",
    "    stds = torch.tensor(stds).reshape(1, 3, 1, 1)\r\n",
    "    return images * stds + means\r\n",
    "\r\n",
    "def show_image(img_tensor, label):\r\n",
    "    print('Label:', train_ds.classes[label], '(' + str(label) + ')')\r\n",
    "    img_tensor = denormalize(img_tensor, *imagenet_stats)[0].permute((1, 2, 0))\r\n",
    "    plt.imshow(img_tensor)"
   ]
  },
  {
   "cell_type": "markdown",
   "metadata": {
    "id": "HQwkzuDMnExg"
   },
   "source": [
    "Some example images along with it's label"
   ]
  },
  {
   "cell_type": "code",
   "execution_count": 13,
   "metadata": {
    "colab": {
     "base_uri": "https://localhost:8080/",
     "height": 285
    },
    "executionInfo": {
     "elapsed": 112668,
     "status": "ok",
     "timestamp": 1610616060391,
     "user": {
      "displayName": "Rijul Bathla",
      "photoUrl": "",
      "userId": "10083723854193395232"
     },
     "user_tz": -330
    },
    "id": "YSD19L6FnEE5",
    "outputId": "5694668f-1a69-4f63-a595-43c672488cb6"
   },
   "outputs": [
    {
     "name": "stdout",
     "output_type": "stream",
     "text": [
      "Label: buildings (0)\n"
     ]
    },
    {
     "data": {
      "image/png": "[encoded data removed]",
      "text/plain": [
       "<Figure size 432x288 with 1 Axes>"
      ]
     },
     "metadata": {
      "needs_background": "light",
      "tags": []
     },
     "output_type": "display_data"
    }
   ],
   "source": [
    "show_image(*train_ds[9])"
   ]
  },
  {
   "cell_type": "code",
   "execution_count": 14,
   "metadata": {
    "colab": {
     "base_uri": "https://localhost:8080/",
     "height": 285
    },
    "executionInfo": {
     "elapsed": 114184,
     "status": "ok",
     "timestamp": 1610616061924,
     "user": {
      "displayName": "Rijul Bathla",
      "photoUrl": "",
      "userId": "10083723854193395232"
     },
     "user_tz": -330
    },
    "id": "C9JAYscYm-Hf",
    "outputId": "86fc36ff-5b9f-481c-8f30-8118b5dce293"
   },
   "outputs": [
    {
     "name": "stdout",
     "output_type": "stream",
     "text": [
      "Label: glacier (2)\n"
     ]
    },
    {
     "data": {
      "image/png": "[encoded data removed]",
      "text/plain": [
       "<Figure size 432x288 with 1 Axes>"
      ]
     },
     "metadata": {
      "needs_background": "light",
      "tags": []
     },
     "output_type": "display_data"
    }
   ],
   "source": [
    "show_image(*train_ds[6589])"
   ]
  },
  {
   "cell_type": "code",
   "execution_count": 15,
   "metadata": {
    "colab": {
     "base_uri": "https://localhost:8080/",
     "height": 285
    },
    "executionInfo": {
     "elapsed": 114170,
     "status": "ok",
     "timestamp": 1610616061927,
     "user": {
      "displayName": "Rijul Bathla",
      "photoUrl": "",
      "userId": "10083723854193395232"
     },
     "user_tz": -330
    },
    "id": "_-25ExJInQMC",
    "outputId": "6e84a026-33cc-4ded-b24c-141d21c3e0f5"
   },
   "outputs": [
    {
     "name": "stdout",
     "output_type": "stream",
     "text": [
      "Label: street (5)\n"
     ]
    },
    {
     "data": {
      "image/png": "[encoded data removed]",
      "text/plain": [
       "<Figure size 432x288 with 1 Axes>"
      ]
     },
     "metadata": {
      "needs_background": "light",
      "tags": []
     },
     "output_type": "display_data"
    }
   ],
   "source": [
    "show_image(*train_ds[13568])"
   ]
  },
  {
   "cell_type": "code",
   "execution_count": 16,
   "metadata": {
    "executionInfo": {
     "elapsed": 114153,
     "status": "ok",
     "timestamp": 1610616061928,
     "user": {
      "displayName": "Rijul Bathla",
      "photoUrl": "",
      "userId": "10083723854193395232"
     },
     "user_tz": -330
    },
    "id": "DbKjz4oonTjN"
   },
   "outputs": [],
   "source": [
    "# Creating dataloaders for training and validation datasets\r\n",
    "\r\n",
    "train_dl = DataLoader(train_ds, batch_size, shuffle=True, num_workers=4, pin_memory=True)\r\n",
    "valid_dl = DataLoader(test_ds, batch_size*2, num_workers=4, pin_memory=True)"
   ]
  },
  {
   "cell_type": "markdown",
   "metadata": {
    "id": "sMutzzx8n4Pc"
   },
   "source": [
    "## Modifying a Pretrained Model (ResNet34)"
   ]
  },
  {
   "cell_type": "code",
   "execution_count": 17,
   "metadata": {
    "executionInfo": {
     "elapsed": 114138,
     "status": "ok",
     "timestamp": 1610616061929,
     "user": {
      "displayName": "Rijul Bathla",
      "photoUrl": "",
      "userId": "10083723854193395232"
     },
     "user_tz": -330
    },
    "id": "3q_4ivzgqJn0"
   },
   "outputs": [],
   "source": [
    "def accuracy(outputs, labels):\r\n",
    "    _, preds = torch.max(outputs, dim=1)\r\n",
    "    return torch.tensor(torch.sum(preds == labels).item() / len(preds))\r\n",
    "\r\n",
    "\r\n",
    "class ImageClassificationBase(nn.Module):\r\n",
    "    def training_step(self, batch):\r\n",
    "        images, labels = batch\r\n",
    "        out = self(images)                  # Generate predictions\r\n",
    "        loss = F.cross_entropy(out, labels)  # Calculate loss\r\n",
    "        return loss\r\n",
    "\r\n",
    "    def validation_step(self, batch):\r\n",
    "        images, labels = batch\r\n",
    "        out = self(images)                    # Generate predictions\r\n",
    "        loss = F.cross_entropy(out, labels)   # Calculate loss\r\n",
    "        acc = accuracy(out, labels)           # Calculate accuracy\r\n",
    "        return {'val_loss': loss.detach(), 'val_acc': acc}\r\n",
    "\r\n",
    "    def validation_epoch_end(self, outputs):\r\n",
    "        batch_losses = [x['val_loss'] for x in outputs]\r\n",
    "        epoch_loss = torch.stack(batch_losses).mean()   # Combine losses\r\n",
    "        batch_accs = [x['val_acc'] for x in outputs]\r\n",
    "        epoch_acc = torch.stack(batch_accs).mean()      # Combine accuracies\r\n",
    "        return {'val_loss': epoch_loss.item(), 'val_acc': epoch_acc.item()}\r\n",
    "\r\n",
    "    def epoch_end(self, epoch, result):\r\n",
    "        print(\"Epoch [{}],{} train_loss: {:.4f}, val_loss: {:.4f}, val_acc: {:.4f}\".format(\r\n",
    "            epoch, \"last_lr: {:.5f},\".format(result['lrs'][-1]) if 'lrs' in result else '', \r\n",
    "            result['train_loss'], result['val_loss'], result['val_acc']))"
   ]
  },
  {
   "cell_type": "code",
   "execution_count": 18,
   "metadata": {
    "executionInfo": {
     "elapsed": 114125,
     "status": "ok",
     "timestamp": 1610616061930,
     "user": {
      "displayName": "Rijul Bathla",
      "photoUrl": "",
      "userId": "10083723854193395232"
     },
     "user_tz": -330
    },
    "id": "k3jpWNeWos32"
   },
   "outputs": [],
   "source": [
    "# IntelImageClassification Definition\r\n",
    "\r\n",
    "class IntelImageClassification(ImageClassificationBase):\r\n",
    "    def __init__(self, num_classes, pretrained=True):\r\n",
    "        super().__init__()\r\n",
    "        # Use a pretrained model\r\n",
    "        self.network = models.resnet34(pretrained=pretrained)\r\n",
    "        # Replace last layer\r\n",
    "        self.network.fc = nn.Linear(self.network.fc.in_features, num_classes)\r\n",
    "\r\n",
    "    def forward(self, xb):\r\n",
    "        return self.network(xb)"
   ]
  },
  {
   "cell_type": "markdown",
   "metadata": {
    "id": "6mPoQ2aZpdLb"
   },
   "source": [
    "## GPU Utilities and Training Loop"
   ]
  },
  {
   "cell_type": "code",
   "execution_count": 19,
   "metadata": {
    "executionInfo": {
     "elapsed": 114113,
     "status": "ok",
     "timestamp": 1610616061931,
     "user": {
      "displayName": "Rijul Bathla",
      "photoUrl": "",
      "userId": "10083723854193395232"
     },
     "user_tz": -330
    },
    "id": "jvdpP9qfpDok"
   },
   "outputs": [],
   "source": [
    "def get_default_device():\r\n",
    "    \"\"\"Pick GPU if available, else CPU\"\"\"\r\n",
    "    if torch.cuda.is_available():\r\n",
    "        return torch.device('cuda')\r\n",
    "    else:\r\n",
    "        return torch.device('cpu')\r\n",
    "\r\n",
    "\r\n",
    "def to_device(data, device):\r\n",
    "    \"\"\"Move tensor(s) to chosen device\"\"\"\r\n",
    "    if isinstance(data, (list, tuple)):\r\n",
    "        return [to_device(x, device) for x in data]\r\n",
    "    return data.to(device, non_blocking=True)\r\n",
    "\r\n",
    "\r\n",
    "class DeviceDataLoader():\r\n",
    "    \"\"\"Wrap a dataloader to move data to a device\"\"\"\r\n",
    "\r\n",
    "    def __init__(self, dl, device):\r\n",
    "        self.dl = dl\r\n",
    "        self.device = device\r\n",
    "\r\n",
    "    def __iter__(self):\r\n",
    "        \"\"\"Yield a batch of data after moving it to device\"\"\"\r\n",
    "        for b in self.dl:\r\n",
    "            yield to_device(b, self.device)\r\n",
    "\r\n",
    "    def __len__(self):\r\n",
    "        \"\"\"Number of batches\"\"\"\r\n",
    "        return len(self.dl)"
   ]
  },
  {
   "cell_type": "markdown",
   "metadata": {
    "id": "67Hts1nHqVOq"
   },
   "source": [
    "Using one fit one lr cycle using "
   ]
  },
  {
   "cell_type": "code",
   "execution_count": 20,
   "metadata": {
    "executionInfo": {
     "elapsed": 114101,
     "status": "ok",
     "timestamp": 1610616061932,
     "user": {
      "displayName": "Rijul Bathla",
      "photoUrl": "",
      "userId": "10083723854193395232"
     },
     "user_tz": -330
    },
    "id": "JV5edjduqJfw"
   },
   "outputs": [],
   "source": [
    "from tqdm.notebook import tqdm\r\n",
    "\r\n",
    "@torch.no_grad()\r\n",
    "def evaluate(model, val_loader):\r\n",
    "    model.eval()\r\n",
    "    outputs = [model.validation_step(batch) for batch in val_loader]\r\n",
    "    return model.validation_epoch_end(outputs)\r\n",
    "\r\n",
    "\r\n",
    "def fit(epochs, lr, model, train_loader, val_loader, opt_func=torch.optim.SGD):\r\n",
    "    history = []\r\n",
    "    optimizer = opt_func(model.parameters(), lr)\r\n",
    "    for epoch in range(epochs):\r\n",
    "        # Training Phase\r\n",
    "        model.train()\r\n",
    "        train_losses = []\r\n",
    "        for batch in tqdm(train_loader):\r\n",
    "            loss = model.training_step(batch)\r\n",
    "            train_losses.append(loss)\r\n",
    "            loss.backward()\r\n",
    "            optimizer.step()\r\n",
    "            optimizer.zero_grad()\r\n",
    "        # Validation phase\r\n",
    "        result = evaluate(model, val_loader)\r\n",
    "        result['train_loss'] = torch.stack(train_losses).mean().item()\r\n",
    "        model.epoch_end(epoch, result)\r\n",
    "        history.append(result)\r\n",
    "    return history\r\n",
    "\r\n",
    "def get_lr(optimizer):\r\n",
    "    for param_group in optimizer.param_groups:\r\n",
    "        return param_group['lr']\r\n",
    "\r\n",
    "def fit_one_cycle(epochs, max_lr, model, train_loader, val_loader,\r\n",
    "                  weight_decay=0, grad_clip=None, opt_func=torch.optim.SGD):\r\n",
    "    torch.cuda.empty_cache()\r\n",
    "    history = []\r\n",
    "\r\n",
    "    # Set up custom optimizer with weight decay\r\n",
    "    optimizer = opt_func(model.parameters(), max_lr, weight_decay=weight_decay)\r\n",
    "    # Set up one-cycle learning rate scheduler\r\n",
    "    sched = torch.optim.lr_scheduler.OneCycleLR(optimizer, max_lr, epochs=epochs,\r\n",
    "                                                steps_per_epoch=len(train_loader))\r\n",
    "\r\n",
    "    for epoch in range(epochs):\r\n",
    "        # Training Phase\r\n",
    "        model.train()\r\n",
    "        train_losses = []\r\n",
    "        lrs = []\r\n",
    "        for batch in tqdm(train_loader):\r\n",
    "            loss = model.training_step(batch)\r\n",
    "            train_losses.append(loss)\r\n",
    "            loss.backward()\r\n",
    "\r\n",
    "            # Gradient clipping\r\n",
    "            if grad_clip:\r\n",
    "                nn.utils.clip_grad_value_(model.parameters(), grad_clip)\r\n",
    "\r\n",
    "            optimizer.step()\r\n",
    "            optimizer.zero_grad()\r\n",
    "\r\n",
    "            # Record & update learning rate\r\n",
    "            lrs.append(get_lr(optimizer))\r\n",
    "            sched.step()\r\n",
    "\r\n",
    "        # Validation phase\r\n",
    "        result = evaluate(model, val_loader)\r\n",
    "        result['train_loss'] = torch.stack(train_losses).mean().item()\r\n",
    "        result['lrs'] = lrs\r\n",
    "        model.epoch_end(epoch, result)\r\n",
    "        history.append(result)\r\n",
    "    return history"
   ]
  },
  {
   "cell_type": "code",
   "execution_count": 21,
   "metadata": {
    "colab": {
     "base_uri": "https://localhost:8080/",
     "height": 136
    },
    "executionInfo": {
     "elapsed": 309070,
     "status": "ok",
     "timestamp": 1610616256915,
     "user": {
      "displayName": "Rijul Bathla",
      "photoUrl": "",
      "userId": "10083723854193395232"
     },
     "user_tz": -330
    },
    "id": "FHc6NDGOqfhj",
    "outputId": "474e92e3-0b45-4b90-c47b-ed7945967acd"
   },
   "outputs": [
    {
     "name": "stdout",
     "output_type": "stream",
     "text": [
      "[jovian] Detected Colab notebook...\u001b[0m\n",
      "[jovian] Please enter your API key ( from https://jovian.ai/ ):\u001b[0m\n",
      "API KEY: ··········\n",
      "[jovian] Uploading colab notebook to Jovian...\u001b[0m\n",
      "[jovian] Capturing environment..\u001b[0m\n",
      "[jovian] Committed successfully! https://jovian.ai/rijulbathla8/course-project-dl\u001b[0m\n"
     ]
    },
    {
     "data": {
      "application/vnd.google.colaboratory.intrinsic+json": {
       "type": "string"
      },
      "text/plain": [
       "'https://jovian.ai/rijulbathla8/course-project-dl'"
      ]
     },
     "execution_count": 21,
     "metadata": {
      "tags": []
     },
     "output_type": "execute_result"
    }
   ],
   "source": [
    "jovian.commit(project='course-project-dl')"
   ]
  },
  {
   "cell_type": "code",
   "execution_count": 22,
   "metadata": {
    "colab": {
     "base_uri": "https://localhost:8080/"
    },
    "executionInfo": {
     "elapsed": 309055,
     "status": "ok",
     "timestamp": 1610616256917,
     "user": {
      "displayName": "Rijul Bathla",
      "photoUrl": "",
      "userId": "10083723854193395232"
     },
     "user_tz": -330
    },
    "id": "7xtM84OzqsVI",
    "outputId": "231e52d5-4d0e-4c7d-f452-52f1b20339c6"
   },
   "outputs": [
    {
     "data": {
      "text/plain": [
       "device(type='cuda')"
      ]
     },
     "execution_count": 22,
     "metadata": {
      "tags": []
     },
     "output_type": "execute_result"
    }
   ],
   "source": [
    "# Checking if GPU is available or not\r\n",
    "\r\n",
    "device = get_default_device()\r\n",
    "device"
   ]
  },
  {
   "cell_type": "code",
   "execution_count": 23,
   "metadata": {
    "executionInfo": {
     "elapsed": 309041,
     "status": "ok",
     "timestamp": 1610616256918,
     "user": {
      "displayName": "Rijul Bathla",
      "photoUrl": "",
      "userId": "10083723854193395232"
     },
     "user_tz": -330
    },
    "id": "oabbfzvGs2gb"
   },
   "outputs": [],
   "source": [
    "# Moving the dataloaders to the GPU \r\n",
    "\r\n",
    "train_dl = DeviceDataLoader(train_dl, device)\r\n",
    "valid_dl = DeviceDataLoader(valid_dl, device)"
   ]
  },
  {
   "cell_type": "code",
   "execution_count": 24,
   "metadata": {
    "colab": {
     "base_uri": "https://localhost:8080/",
     "height": 82,
     "referenced_widgets": [
      "9d07d9d47a6141bba16cedab4c458535",
      "9c0ec3afbb234fa8a247cd5270d16b3d",
      "1687139e36ee4e13ae7bf86d84849c87",
      "d1251abaea61447797d193052bfc3851",
      "87019e974aac41e1b528b290e432f21d",
      "9c6c6cca97b64fbe8fd84503b3eb8c52",
      "9a1230362ae143cd9bdf8f574d5714ac",
      "0c14a4869c644958a4382dc239717653"
     ]
    },
    "executionInfo": {
     "elapsed": 322710,
     "status": "ok",
     "timestamp": 1610616270603,
     "user": {
      "displayName": "Rijul Bathla",
      "photoUrl": "",
      "userId": "10083723854193395232"
     },
     "user_tz": -330
    },
    "id": "Fzitvk2HtCej",
    "outputId": "ab25e167-5ab2-40b3-a37e-9a6eca315b71"
   },
   "outputs": [
    {
     "name": "stderr",
     "output_type": "stream",
     "text": [
      "Downloading: \"https://download.pytorch.org/models/resnet34-333f7ec4.pth\" to /root/.cache/torch/hub/checkpoints/resnet34-333f7ec4.pth\n"
     ]
    },
    {
     "data": {
      "application/vnd.jupyter.widget-view+json": {
       "model_id": "9d07d9d47a6141bba16cedab4c458535",
       "version_major": 2,
       "version_minor": 0
      },
      "text/plain": [
       "HBox(children=(FloatProgress(value=0.0, max=87306240.0), HTML(value='')))"
      ]
     },
     "metadata": {
      "tags": []
     },
     "output_type": "display_data"
    },
    {
     "name": "stdout",
     "output_type": "stream",
     "text": [
      "\n"
     ]
    }
   ],
   "source": [
    "# Initiating the model and moving it to the GPU\r\n",
    "\r\n",
    "model = IntelImageClassification(len(classes))\r\n",
    "to_device(model, device);"
   ]
  },
  {
   "cell_type": "code",
   "execution_count": 25,
   "metadata": {
    "colab": {
     "base_uri": "https://localhost:8080/"
    },
    "executionInfo": {
     "elapsed": 447330,
     "status": "ok",
     "timestamp": 1610616395238,
     "user": {
      "displayName": "Rijul Bathla",
      "photoUrl": "",
      "userId": "10083723854193395232"
     },
     "user_tz": -330
    },
    "id": "CrcRTzHQtK6q",
    "outputId": "9cd84dac-7b97-4935-bca9-548111e7079c"
   },
   "outputs": [
    {
     "data": {
      "text/plain": [
       "[{'val_acc': 0.23278985917568207, 'val_loss': 1.9112391471862793}]"
      ]
     },
     "execution_count": 25,
     "metadata": {
      "tags": []
     },
     "output_type": "execute_result"
    }
   ],
   "source": [
    "# Evaluating model before training\r\n",
    "\r\n",
    "history = [evaluate(model, valid_dl)]\r\n",
    "history"
   ]
  },
  {
   "cell_type": "markdown",
   "metadata": {
    "id": "LjMmAIZjwMav"
   },
   "source": [
    "Validation accuracy before training comes out to be around 23% as the weights are randomly initialised. "
   ]
  },
  {
   "cell_type": "markdown",
   "metadata": {
    "id": "XAWFAeCCwmyg"
   },
   "source": [
    "## Training and Finetuning the model"
   ]
  },
  {
   "cell_type": "code",
   "execution_count": 26,
   "metadata": {
    "executionInfo": {
     "elapsed": 447317,
     "status": "ok",
     "timestamp": 1610616395241,
     "user": {
      "displayName": "Rijul Bathla",
      "photoUrl": "",
      "userId": "10083723854193395232"
     },
     "user_tz": -330
    },
    "id": "g0SQGgD3tlRS"
   },
   "outputs": [],
   "source": [
    "# Hyperparameters \r\n",
    "\r\n",
    "epochs = 5\r\n",
    "max_lr = 0.01\r\n",
    "grad_clip = 0.1\r\n",
    "weight_decay = 1e-4\r\n",
    "opt_func = torch.optim.Adam"
   ]
  },
  {
   "cell_type": "code",
   "execution_count": 27,
   "metadata": {
    "colab": {
     "base_uri": "https://localhost:8080/",
     "height": 378,
     "referenced_widgets": [
      "b0a44af292b749e8852bfb05438e1a96",
      "583dffbee00a4690ba650267032c76bb",
      "c45bf5b91ad74137876af01a5ecf54f3",
      "5449aa678ad64eeabd21dcc10eeff1c3",
      "245fd878aabd4004a99e1351eb4c730d",
      "14c00c3a6b59488fb2a40beb65f6cd90",
      "b2f6e7e8817340028b259b60cd3b5dc6",
      "773a433bc4c74dca8c53d0cc6c9b277f",
      "18a5ab97faa54a6586d27d1c4627318a",
      "d7e4987ef1914d5d84abb05aab88f440",
      "0804a2f918c5440787bffce52ae7e478",
      "b2680569801148a7ae7b808d60800604",
      "66fa8ab6a0fb4167a69e244e9e0b8750",
      "e7fbe9f538c0429a92d86a6b1b4f8b6e",
      "6bbbf858c2d841da8ad4c341641cfe42",
      "075916b7ac324160966a91d5309b1522",
      "e137969da6544d0fbf80843a35e14a8c",
      "6d8f8dccf6eb42f2b63c027eacbe5491",
      "260210c020934d2794b3acd797d08078",
      "572f03655e37464785b90610d5ea27c9",
      "afaef090daad474391af06283f8fd826",
      "48411eb10713405fb2e3855a71c335a3",
      "b1e160198a7d4f33a401a32f9d5d58f4",
      "4ccd9b3641ee4c1196083e8ca4ad25c2",
      "0d19089d4dea4bfb9af87e8bb0a7a618",
      "59e7c9af40654b35970c5d58c253c173",
      "fa8d8efd305c445a8d732c179f784e24",
      "354bcacab30c4e98a5c3d8e1fdca72b1",
      "9a08e9167532433ba5af9016d1e01932",
      "7c94058ebb1a41ffb753b5af556fc7fb",
      "a116f62391184d90a5a673338691ea97",
      "2dff05fed81f48d5b3c179f3e196070a",
      "77286e3ad4b9475f892819c8c257bd7a",
      "207fb83081594bc983760a96126e7de6",
      "d8bb1282c34446c696bb4f27e5792e32",
      "30285bd643b24664b9636b277b84afef",
      "5083ade3ab50441eac3ff7d53172fb1d",
      "061409b20b1c4213ae7744957898066d",
      "0be98fb39ba54e1da096f1bc3e0cf357",
      "85acab04f1854e06aafe5c13f3eb0ed3"
     ]
    },
    "executionInfo": {
     "elapsed": 1171955,
     "status": "ok",
     "timestamp": 1610617119893,
     "user": {
      "displayName": "Rijul Bathla",
      "photoUrl": "",
      "userId": "10083723854193395232"
     },
     "user_tz": -330
    },
    "id": "CZbO7TYKw3y1",
    "outputId": "f46f2c76-ad71-420a-ab56-836ba408fd95"
   },
   "outputs": [
    {
     "data": {
      "application/vnd.jupyter.widget-view+json": {
       "model_id": "b0a44af292b749e8852bfb05438e1a96",
       "version_major": 2,
       "version_minor": 0
      },
      "text/plain": [
       "HBox(children=(FloatProgress(value=0.0, max=110.0), HTML(value='')))"
      ]
     },
     "metadata": {
      "tags": []
     },
     "output_type": "display_data"
    },
    {
     "name": "stdout",
     "output_type": "stream",
     "text": [
      "\n",
      "Epoch [0],last_lr: 0.00757, train_loss: 0.6093, val_loss: 1.4004, val_acc: 0.5692\n"
     ]
    },
    {
     "data": {
      "application/vnd.jupyter.widget-view+json": {
       "model_id": "18a5ab97faa54a6586d27d1c4627318a",
       "version_major": 2,
       "version_minor": 0
      },
      "text/plain": [
       "HBox(children=(FloatProgress(value=0.0, max=110.0), HTML(value='')))"
      ]
     },
     "metadata": {
      "tags": []
     },
     "output_type": "display_data"
    },
    {
     "name": "stdout",
     "output_type": "stream",
     "text": [
      "\n",
      "Epoch [1],last_lr: 0.00950, train_loss: 0.6076, val_loss: 0.7081, val_acc: 0.7275\n"
     ]
    },
    {
     "data": {
      "application/vnd.jupyter.widget-view+json": {
       "model_id": "e137969da6544d0fbf80843a35e14a8c",
       "version_major": 2,
       "version_minor": 0
      },
      "text/plain": [
       "HBox(children=(FloatProgress(value=0.0, max=110.0), HTML(value='')))"
      ]
     },
     "metadata": {
      "tags": []
     },
     "output_type": "display_data"
    },
    {
     "name": "stdout",
     "output_type": "stream",
     "text": [
      "\n",
      "Epoch [2],last_lr: 0.00611, train_loss: 0.5699, val_loss: 1.2485, val_acc: 0.6079\n"
     ]
    },
    {
     "data": {
      "application/vnd.jupyter.widget-view+json": {
       "model_id": "0d19089d4dea4bfb9af87e8bb0a7a618",
       "version_major": 2,
       "version_minor": 0
      },
      "text/plain": [
       "HBox(children=(FloatProgress(value=0.0, max=110.0), HTML(value='')))"
      ]
     },
     "metadata": {
      "tags": []
     },
     "output_type": "display_data"
    },
    {
     "name": "stdout",
     "output_type": "stream",
     "text": [
      "\n",
      "Epoch [3],last_lr: 0.00188, train_loss: 0.4488, val_loss: 0.3858, val_acc: 0.8678\n"
     ]
    },
    {
     "data": {
      "application/vnd.jupyter.widget-view+json": {
       "model_id": "77286e3ad4b9475f892819c8c257bd7a",
       "version_major": 2,
       "version_minor": 0
      },
      "text/plain": [
       "HBox(children=(FloatProgress(value=0.0, max=110.0), HTML(value='')))"
      ]
     },
     "metadata": {
      "tags": []
     },
     "output_type": "display_data"
    },
    {
     "name": "stdout",
     "output_type": "stream",
     "text": [
      "\n",
      "Epoch [4],last_lr: 0.00000, train_loss: 0.3038, val_loss: 0.3287, val_acc: 0.8879\n",
      "CPU times: user 43.8 s, sys: 12.6 s, total: 56.4 s\n",
      "Wall time: 12min 5s\n"
     ]
    }
   ],
   "source": [
    "# Training with the above hyperparameters\r\n",
    "\r\n",
    "%%time\r\n",
    "history += fit_one_cycle(epochs, max_lr, model, train_dl, valid_dl, \r\n",
    "                         grad_clip=grad_clip, \r\n",
    "                         weight_decay=weight_decay, \r\n",
    "                         opt_func=opt_func)"
   ]
  },
  {
   "cell_type": "markdown",
   "metadata": {
    "id": "xihIhOJE35YX"
   },
   "source": [
    "The model took around 7 minutes for the first epoch and 5 minutes for rest of the epochs. \r\n",
    "\r\n",
    "Model achieved a validation accuracy of **around 88% in 5 epochs**."
   ]
  },
  {
   "cell_type": "markdown",
   "metadata": {
    "id": "BUYW_zJ4U9_O"
   },
   "source": [
    "## Model Evaluation"
   ]
  },
  {
   "cell_type": "code",
   "execution_count": 28,
   "metadata": {
    "executionInfo": {
     "elapsed": 1171943,
     "status": "ok",
     "timestamp": 1610617119896,
     "user": {
      "displayName": "Rijul Bathla",
      "photoUrl": "",
      "userId": "10083723854193395232"
     },
     "user_tz": -330
    },
    "id": "VFwcTpJjxOUy"
   },
   "outputs": [],
   "source": [
    "def plot_accuracies(history):\r\n",
    "    accuracies = [x['val_acc'] for x in history]\r\n",
    "    plt.plot(accuracies, '-x')\r\n",
    "    plt.xlabel('epoch')\r\n",
    "    plt.ylabel('accuracy')\r\n",
    "    plt.title('Accuracy vs. No. of epochs');"
   ]
  },
  {
   "cell_type": "code",
   "execution_count": 29,
   "metadata": {
    "colab": {
     "base_uri": "https://localhost:8080/",
     "height": 295
    },
    "executionInfo": {
     "elapsed": 1171931,
     "status": "ok",
     "timestamp": 1610617119898,
     "user": {
      "displayName": "Rijul Bathla",
      "photoUrl": "",
      "userId": "10083723854193395232"
     },
     "user_tz": -330
    },
    "id": "ezh8vzDl4qHe",
    "outputId": "6832c418-2841-4447-bd9c-33b24fef3d4b"
   },
   "outputs": [
    {
     "data": {
      "image/png": "[encoded data removed]",
      "text/plain": [
       "<Figure size 432x288 with 1 Axes>"
      ]
     },
     "metadata": {
      "needs_background": "light",
      "tags": []
     },
     "output_type": "display_data"
    }
   ],
   "source": [
    "plot_accuracies(history)"
   ]
  },
  {
   "cell_type": "code",
   "execution_count": 30,
   "metadata": {
    "executionInfo": {
     "elapsed": 1171917,
     "status": "ok",
     "timestamp": 1610617119899,
     "user": {
      "displayName": "Rijul Bathla",
      "photoUrl": "",
      "userId": "10083723854193395232"
     },
     "user_tz": -330
    },
    "id": "rbvrmRTc4sN0"
   },
   "outputs": [],
   "source": [
    "def plot_losses(history):\r\n",
    "    train_losses = [x.get('train_loss') for x in history]\r\n",
    "    val_losses = [x['val_loss'] for x in history]\r\n",
    "    plt.plot(train_losses, '-bx')\r\n",
    "    plt.plot(val_losses, '-rx')\r\n",
    "    plt.xlabel('epoch')\r\n",
    "    plt.ylabel('loss')\r\n",
    "    plt.legend(['Training', 'Validation'])\r\n",
    "    plt.title('Loss vs. No. of epochs');"
   ]
  },
  {
   "cell_type": "code",
   "execution_count": 31,
   "metadata": {
    "colab": {
     "base_uri": "https://localhost:8080/",
     "height": 295
    },
    "executionInfo": {
     "elapsed": 1171905,
     "status": "ok",
     "timestamp": 1610617119900,
     "user": {
      "displayName": "Rijul Bathla",
      "photoUrl": "",
      "userId": "10083723854193395232"
     },
     "user_tz": -330
    },
    "id": "yRIdNdw14xbv",
    "outputId": "0b50cf27-014f-4325-f25e-ec90026a79ae"
   },
   "outputs": [
    {
     "data": {
      "image/png": "[encoded data removed]",
      "text/plain": [
       "<Figure size 432x288 with 1 Axes>"
      ]
     },
     "metadata": {
      "needs_background": "light",
      "tags": []
     },
     "output_type": "display_data"
    }
   ],
   "source": [
    "plot_losses(history)"
   ]
  },
  {
   "cell_type": "code",
   "execution_count": 32,
   "metadata": {
    "executionInfo": {
     "elapsed": 1218,
     "status": "ok",
     "timestamp": 1610617223392,
     "user": {
      "displayName": "Rijul Bathla",
      "photoUrl": "",
      "userId": "10083723854193395232"
     },
     "user_tz": -330
    },
    "id": "FFOv36tL4zGX"
   },
   "outputs": [],
   "source": [
    "def plot_lrs(history):\r\n",
    "    lrs = np.concatenate([x.get('lrs', []) for x in history])\r\n",
    "    plt.plot(lrs)\r\n",
    "    plt.xlabel('Batch no.')\r\n",
    "    plt.ylabel('Learning rate')\r\n",
    "    plt.title('Learning Rate vs. Batch no.');"
   ]
  },
  {
   "cell_type": "code",
   "execution_count": 33,
   "metadata": {
    "colab": {
     "base_uri": "https://localhost:8080/",
     "height": 295
    },
    "executionInfo": {
     "elapsed": 1936,
     "status": "ok",
     "timestamp": 1610617254704,
     "user": {
      "displayName": "Rijul Bathla",
      "photoUrl": "",
      "userId": "10083723854193395232"
     },
     "user_tz": -330
    },
    "id": "c7JGZkESRHNZ",
    "outputId": "cc984ee8-72f2-4d75-b2ec-a87971cbc7a2"
   },
   "outputs": [
    {
     "data": {
      "image/png": "[encoded data removed]",
      "text/plain": [
       "<Figure size 432x288 with 1 Axes>"
      ]
     },
     "metadata": {
      "needs_background": "light",
      "tags": []
     },
     "output_type": "display_data"
    }
   ],
   "source": [
    "plot_lrs(history)"
   ]
  },
  {
   "cell_type": "code",
   "execution_count": 34,
   "metadata": {
    "executionInfo": {
     "elapsed": 5646,
     "status": "ok",
     "timestamp": 1610617319505,
     "user": {
      "displayName": "Rijul Bathla",
      "photoUrl": "",
      "userId": "10083723854193395232"
     },
     "user_tz": -330
    },
    "id": "z2TWbB1vROs8"
   },
   "outputs": [],
   "source": [
    "torch.save(model.state_dict(), 'IntelImageClassification.pth')"
   ]
  },
  {
   "cell_type": "code",
   "execution_count": 35,
   "metadata": {
    "colab": {
     "base_uri": "https://localhost:8080/"
    },
    "executionInfo": {
     "elapsed": 1106,
     "status": "ok",
     "timestamp": 1610617364692,
     "user": {
      "displayName": "Rijul Bathla",
      "photoUrl": "",
      "userId": "10083723854193395232"
     },
     "user_tz": -330
    },
    "id": "bu79ckqMRdnl",
    "outputId": "81009345-bbfc-4168-bd79-9f550f819970"
   },
   "outputs": [
    {
     "name": "stdout",
     "output_type": "stream",
     "text": [
      "[jovian] Hyperparams logged.\u001b[0m\n"
     ]
    }
   ],
   "source": [
    "jovian.reset()\r\n",
    "jovian.log_hyperparams(arch='pretrained(ResNet34)', \r\n",
    "                       epochs=epochs, \r\n",
    "                       lr=max_lr, \r\n",
    "                       scheduler='one-cycle', \r\n",
    "                       weight_decay=weight_decay, \r\n",
    "                       grad_clip=grad_clip,\r\n",
    "                       opt=opt_func.__name__)"
   ]
  },
  {
   "cell_type": "code",
   "execution_count": 36,
   "metadata": {
    "colab": {
     "base_uri": "https://localhost:8080/"
    },
    "executionInfo": {
     "elapsed": 1750,
     "status": "ok",
     "timestamp": 1610617375925,
     "user": {
      "displayName": "Rijul Bathla",
      "photoUrl": "",
      "userId": "10083723854193395232"
     },
     "user_tz": -330
    },
    "id": "KLhliuZMRpw4",
    "outputId": "16ffb1e0-bcfd-4ee1-978e-764ff8ab833c"
   },
   "outputs": [
    {
     "name": "stdout",
     "output_type": "stream",
     "text": [
      "[jovian] Metrics logged.\u001b[0m\n"
     ]
    }
   ],
   "source": [
    "jovian.log_metrics(val_loss=history[-1]['val_loss'], \r\n",
    "                   val_acc=history[-1]['val_acc'],\r\n",
    "                   train_loss=history[-1]['train_loss'])"
   ]
  },
  {
   "cell_type": "code",
   "execution_count": 37,
   "metadata": {
    "colab": {
     "base_uri": "https://localhost:8080/",
     "height": 119
    },
    "executionInfo": {
     "elapsed": 9707,
     "status": "ok",
     "timestamp": 1610617429551,
     "user": {
      "displayName": "Rijul Bathla",
      "photoUrl": "",
      "userId": "10083723854193395232"
     },
     "user_tz": -330
    },
    "id": "JnHSOQcZRsWU",
    "outputId": "7a0d5c47-8b5d-4cff-9664-3aeb286b2aa7"
   },
   "outputs": [
    {
     "name": "stdout",
     "output_type": "stream",
     "text": [
      "[jovian] Detected Colab notebook...\u001b[0m\n",
      "[jovian] Uploading colab notebook to Jovian...\u001b[0m\n",
      "[jovian] Uploading additional outputs...\u001b[0m\n",
      "[jovian] Attaching records (metrics, hyperparameters, dataset etc.)\u001b[0m\n",
      "[jovian] Committed successfully! https://jovian.ai/rijulbathla8/course-project-dl\u001b[0m\n"
     ]
    },
    {
     "data": {
      "application/vnd.google.colaboratory.intrinsic+json": {
       "type": "string"
      },
      "text/plain": [
       "'https://jovian.ai/rijulbathla8/course-project-dl'"
      ]
     },
     "execution_count": 37,
     "metadata": {
      "tags": []
     },
     "output_type": "execute_result"
    }
   ],
   "source": [
    "jovian.commit(project='course-project-dl', environment=None, outputs=['IntelImageClassification.pth'])"
   ]
  },
  {
   "cell_type": "markdown",
   "metadata": {
    "id": "t0nuIRQsS5yv"
   },
   "source": [
    "## Testing on individual images"
   ]
  },
  {
   "cell_type": "code",
   "execution_count": 38,
   "metadata": {
    "executionInfo": {
     "elapsed": 1010,
     "status": "ok",
     "timestamp": 1610617743480,
     "user": {
      "displayName": "Rijul Bathla",
      "photoUrl": "",
      "userId": "10083723854193395232"
     },
     "user_tz": -330
    },
    "id": "401BNjuGR3fS"
   },
   "outputs": [],
   "source": [
    "def predict_image(img, model):\r\n",
    "    # Convert to a batch of 1\r\n",
    "    xb = to_device(img.unsqueeze(0), device)\r\n",
    "    # Get predictions from model\r\n",
    "    yb = model(xb)\r\n",
    "    # Pick index with highest probability\r\n",
    "    _, preds  = torch.max(yb, dim=1)\r\n",
    "    # Retrieve the class label\r\n",
    "    return train_ds.classes[preds[0].item()]"
   ]
  },
  {
   "cell_type": "code",
   "execution_count": 41,
   "metadata": {
    "colab": {
     "base_uri": "https://localhost:8080/",
     "height": 285
    },
    "executionInfo": {
     "elapsed": 1928,
     "status": "ok",
     "timestamp": 1610617815075,
     "user": {
      "displayName": "Rijul Bathla",
      "photoUrl": "",
      "userId": "10083723854193395232"
     },
     "user_tz": -330
    },
    "id": "VugHUEJzTGQK",
    "outputId": "ba9b70e2-e8ef-44fe-fed5-795532eb9ed0"
   },
   "outputs": [
    {
     "name": "stdout",
     "output_type": "stream",
     "text": [
      "Label: buildings , Predicted: buildings\n"
     ]
    },
    {
     "data": {
      "image/png": "[encoded data removed]",
      "text/plain": [
       "<Figure size 432x288 with 1 Axes>"
      ]
     },
     "metadata": {
      "needs_background": "light",
      "tags": []
     },
     "output_type": "display_data"
    }
   ],
   "source": [
    "# using a random image \r\n",
    "img, label = test_ds[24]\r\n",
    "plt.imshow(img.permute(1, 2, 0).clamp(0, 1))\r\n",
    "print('Label:', train_ds.classes[label], ', Predicted:', predict_image(img, model))"
   ]
  },
  {
   "cell_type": "code",
   "execution_count": 43,
   "metadata": {
    "colab": {
     "base_uri": "https://localhost:8080/",
     "height": 285
    },
    "executionInfo": {
     "elapsed": 1649,
     "status": "ok",
     "timestamp": 1610617855529,
     "user": {
      "displayName": "Rijul Bathla",
      "photoUrl": "",
      "userId": "10083723854193395232"
     },
     "user_tz": -330
    },
    "id": "T66rQ-1fTR9w",
    "outputId": "cb82ca44-754f-40b0-e000-9915af339d73"
   },
   "outputs": [
    {
     "name": "stdout",
     "output_type": "stream",
     "text": [
      "Label: forest , Predicted: forest\n"
     ]
    },
    {
     "data": {
      "image/png": "[encoded data removed]",
      "text/plain": [
       "<Figure size 432x288 with 1 Axes>"
      ]
     },
     "metadata": {
      "needs_background": "light",
      "tags": []
     },
     "output_type": "display_data"
    }
   ],
   "source": [
    "# using a random image \r\n",
    "img, label = test_ds[594]\r\n",
    "plt.imshow(img.permute(1, 2, 0).clamp(0, 1))\r\n",
    "print('Label:', train_ds.classes[label], ', Predicted:', predict_image(img, model))"
   ]
  },
  {
   "cell_type": "code",
   "execution_count": 44,
   "metadata": {
    "executionInfo": {
     "elapsed": 1221,
     "status": "ok",
     "timestamp": 1610618770081,
     "user": {
      "displayName": "Rijul Bathla",
      "photoUrl": "",
      "userId": "10083723854193395232"
     },
     "user_tz": -330
    },
    "id": "cKM3gsHGVOFX"
   },
   "outputs": [],
   "source": [
    "pred_dl = DataLoader(pred_ds, batch_size, num_workers=4, pin_memory=True)\r\n",
    "pred_dl = DeviceDataLoader(pred_dl, device)"
   ]
  },
  {
   "cell_type": "code",
   "execution_count": null,
   "metadata": {
    "id": "iy_TwGTVXDGW"
   },
   "outputs": [],
   "source": [
    " # Predict on the pred folder here"
   ]
  },
  {
   "cell_type": "markdown",
   "metadata": {
    "id": "bqZFe-H4XpT6"
   },
   "source": [
    "## Model without using pretrained layers"
   ]
  },
  {
   "cell_type": "code",
   "execution_count": 46,
   "metadata": {
    "executionInfo": {
     "elapsed": 1956,
     "status": "ok",
     "timestamp": 1610619156389,
     "user": {
      "displayName": "Rijul Bathla",
      "photoUrl": "",
      "userId": "10083723854193395232"
     },
     "user_tz": -330
    },
    "id": "f9s0ZcbzXnH7"
   },
   "outputs": [],
   "source": [
    "model2 = IntelImageClassification( len(classes) , pretrained=False)\r\n",
    "to_device(model2, device);"
   ]
  },
  {
   "cell_type": "code",
   "execution_count": 47,
   "metadata": {
    "colab": {
     "base_uri": "https://localhost:8080/"
    },
    "executionInfo": {
     "elapsed": 6141,
     "status": "ok",
     "timestamp": 1610619164961,
     "user": {
      "displayName": "Rijul Bathla",
      "photoUrl": "",
      "userId": "10083723854193395232"
     },
     "user_tz": -330
    },
    "id": "SqkKHMZiXnEy",
    "outputId": "87236c88-ada8-4469-e173-d6d54c6336f1"
   },
   "outputs": [
    {
     "data": {
      "text/plain": [
       "[{'val_acc': 0.1865234375, 'val_loss': 12.629034042358398}]"
      ]
     },
     "execution_count": 47,
     "metadata": {
      "tags": []
     },
     "output_type": "execute_result"
    }
   ],
   "source": [
    "history2 = [evaluate(model2, valid_dl)]\r\n",
    "history2"
   ]
  },
  {
   "cell_type": "code",
   "execution_count": 48,
   "metadata": {
    "colab": {
     "base_uri": "https://localhost:8080/",
     "height": 378,
     "referenced_widgets": [
      "7a69e12637f849edb65a3a21adf577b9",
      "6ae77842c64048988159bc13c708f1c6",
      "f62299ce508243c98b12f0b1355b15a8",
      "e8a23c6f8fbb4bf78fdb819d4adf8995",
      "4dc353c1ab374a9dbb0a69100abcd408",
      "a5a237b10b9f4c08a4a050641588bd76",
      "162716710e904819ab164776cd0e76bd",
      "cddcfb6f11c14a11ac815208e1ee1d6b",
      "5077bdcbe704438fa54d60427125ca71",
      "0ff7cbd4eeb64167908209238289647d",
      "28e3f69e4c1443358842b18469de688b",
      "f6a2446c89684ba397438aaadd64724b",
      "9fc106c996c84d539a62b88f2c0383a0",
      "c08c47980286401c9d6dbed5a6367324",
      "6bc6a9e632c346189ea9e3f93e2f20bf",
      "7fe2bc1bf20a4bc6822dd8ce61bea13c",
      "c184ddba2a9c44aa862d9977d52547d6",
      "a7294944708940f289361f42b55a4b16",
      "07f2e61460ea4296828b4aa49560af59",
      "7bf90d2d2a3e404e8dd344c908975712",
      "3dd74eb9964343979874b42716149a28",
      "72751e702f8e4a88b0a4e636d4345816",
      "b80d9c8d3e014c54a4cbed28df2e5cbf",
      "e47412fe630d41afaf6ed370d6f4a7bf",
      "df4bdc27e61b4757b50eb8e2ce4238e6",
      "0af34456a8fc4e50aa42f0ccd191f904",
      "a87b0ed5a64a4a8d8714752cbaa4304c",
      "5ee32cfa80b948a9b9c8bfd2785ea881",
      "8112452281354873a0396c9a3118c8e2",
      "0ac913b46eff40deb1d128f1d96db9f9",
      "c0a1d085795243b18ce5686f618fc44f",
      "53f70c4865994b87b2f926a7f073824b",
      "900fa757070942fdb73cbcd8c61b5544",
      "729c80ae3aa74be1ae1f157240e00072",
      "ac237fed1b6e4200acf471c783d6e426",
      "77f2d4d5680645b996e93dcfe8b5c2b5",
      "5d888bd7384d4cfaaa71b9fc480956b4",
      "6e64f64cecdd453e9b7d4e9a71bfff3e",
      "06d3c709b50a423b9a4e2750d4cb5d3b",
      "a6c1e0404cb14a118e6de90e324d6e8a"
     ]
    },
    "executionInfo": {
     "elapsed": 162025,
     "status": "ok",
     "timestamp": 1610619332140,
     "user": {
      "displayName": "Rijul Bathla",
      "photoUrl": "",
      "userId": "10083723854193395232"
     },
     "user_tz": -330
    },
    "id": "UFi5nZdbXnAS",
    "outputId": "d42f31bf-eb01-4380-e19d-acc53e0b8d0e"
   },
   "outputs": [
    {
     "data": {
      "application/vnd.jupyter.widget-view+json": {
       "model_id": "7a69e12637f849edb65a3a21adf577b9",
       "version_major": 2,
       "version_minor": 0
      },
      "text/plain": [
       "HBox(children=(FloatProgress(value=0.0, max=110.0), HTML(value='')))"
      ]
     },
     "metadata": {
      "tags": []
     },
     "output_type": "display_data"
    },
    {
     "name": "stdout",
     "output_type": "stream",
     "text": [
      "\n",
      "Epoch [0],last_lr: 0.00757, train_loss: 1.0468, val_loss: 1.2116, val_acc: 0.5786\n"
     ]
    },
    {
     "data": {
      "application/vnd.jupyter.widget-view+json": {
       "model_id": "5077bdcbe704438fa54d60427125ca71",
       "version_major": 2,
       "version_minor": 0
      },
      "text/plain": [
       "HBox(children=(FloatProgress(value=0.0, max=110.0), HTML(value='')))"
      ]
     },
     "metadata": {
      "tags": []
     },
     "output_type": "display_data"
    },
    {
     "name": "stdout",
     "output_type": "stream",
     "text": [
      "\n",
      "Epoch [1],last_lr: 0.00950, train_loss: 0.8804, val_loss: 1.1268, val_acc: 0.6039\n"
     ]
    },
    {
     "data": {
      "application/vnd.jupyter.widget-view+json": {
       "model_id": "c184ddba2a9c44aa862d9977d52547d6",
       "version_major": 2,
       "version_minor": 0
      },
      "text/plain": [
       "HBox(children=(FloatProgress(value=0.0, max=110.0), HTML(value='')))"
      ]
     },
     "metadata": {
      "tags": []
     },
     "output_type": "display_data"
    },
    {
     "name": "stdout",
     "output_type": "stream",
     "text": [
      "\n",
      "Epoch [2],last_lr: 0.00611, train_loss: 0.7052, val_loss: 1.2491, val_acc: 0.6182\n"
     ]
    },
    {
     "data": {
      "application/vnd.jupyter.widget-view+json": {
       "model_id": "df4bdc27e61b4757b50eb8e2ce4238e6",
       "version_major": 2,
       "version_minor": 0
      },
      "text/plain": [
       "HBox(children=(FloatProgress(value=0.0, max=110.0), HTML(value='')))"
      ]
     },
     "metadata": {
      "tags": []
     },
     "output_type": "display_data"
    },
    {
     "name": "stdout",
     "output_type": "stream",
     "text": [
      "\n",
      "Epoch [3],last_lr: 0.00188, train_loss: 0.5695, val_loss: 0.5438, val_acc: 0.8090\n"
     ]
    },
    {
     "data": {
      "application/vnd.jupyter.widget-view+json": {
       "model_id": "900fa757070942fdb73cbcd8c61b5544",
       "version_major": 2,
       "version_minor": 0
      },
      "text/plain": [
       "HBox(children=(FloatProgress(value=0.0, max=110.0), HTML(value='')))"
      ]
     },
     "metadata": {
      "tags": []
     },
     "output_type": "display_data"
    },
    {
     "name": "stdout",
     "output_type": "stream",
     "text": [
      "\n",
      "Epoch [4],last_lr: 0.00000, train_loss: 0.4563, val_loss: 0.4731, val_acc: 0.8370\n",
      "CPU times: user 40.8 s, sys: 7.56 s, total: 48.3 s\n",
      "Wall time: 2min 40s\n"
     ]
    }
   ],
   "source": [
    "%%time\r\n",
    "history2 += fit_one_cycle(epochs, max_lr, model2, train_dl, valid_dl, \r\n",
    "                         grad_clip=grad_clip, \r\n",
    "                         weight_decay=weight_decay, \r\n",
    "                         opt_func=opt_func)"
   ]
  },
  {
   "cell_type": "code",
   "execution_count": null,
   "metadata": {
    "id": "FKRrXyt1ZWoi"
   },
   "outputs": [],
   "source": []
  },
  {
   "cell_type": "code",
   "execution_count": null,
   "metadata": {
    "id": "ghzfAkk8ZWcv"
   },
   "outputs": [],
   "source": []
  },
  {
   "cell_type": "code",
   "execution_count": null,
   "metadata": {
    "id": "uJB5fNtBYizX"
   },
   "outputs": [],
   "source": []
  }
 ],
 "metadata": {
  "accelerator": "GPU",
  "colab": {
   "collapsed_sections": [],
   "name": "blank-starter.ipynb",
   "provenance": []
  },
  "language_info": {
   "codemirror_mode": {
    "name": "ipython",
    "version": 3
   },
   "file_extension": ".py",
   "mimetype": "text/x-python",
   "name": "python",
   "nbconvert_exporter": "python",
   "pygments_lexer": "ipython3",
   "version": "3.7.6"
  },
  "widgets": {
   "application/vnd.jupyter.widget-state+json": {
    "061409b20b1c4213ae7744957898066d": {
     "model_module": "@jupyter-widgets/base",
     "model_name": "LayoutModel",
     "state": {
      "_model_module": "@jupyter-widgets/base",
      "_model_module_version": "1.2.0",
      "_model_name": "LayoutModel",
      "_view_count": null,
      "_view_module": "@jupyter-widgets/base",
      "_view_module_version": "1.2.0",
      "_view_name": "LayoutView",
      "align_content": null,
      "align_items": null,
      "align_self": null,
      "border": null,
      "bottom": null,
      "display": null,
      "flex": null,
      "flex_flow": null,
      "grid_area": null,
      "grid_auto_columns": null,
      "grid_auto_flow": null,
      "grid_auto_rows": null,
      "grid_column": null,
      "grid_gap": null,
      "grid_row": null,
      "grid_template_areas": null,
      "grid_template_columns": null,
      "grid_template_rows": null,
      "height": null,
      "justify_content": null,
      "justify_items": null,
      "left": null,
      "margin": null,
      "max_height": null,
      "max_width": null,
      "min_height": null,
      "min_width": null,
      "object_fit": null,
      "object_position": null,
      "order": null,
      "overflow": null,
      "overflow_x": null,
      "overflow_y": null,
      "padding": null,
      "right": null,
      "top": null,
      "visibility": null,
      "width": null
     }
    },
    "06d3c709b50a423b9a4e2750d4cb5d3b": {
     "model_module": "@jupyter-widgets/controls",
     "model_name": "DescriptionStyleModel",
     "state": {
      "_model_module": "@jupyter-widgets/controls",
      "_model_module_version": "1.5.0",
      "_model_name": "DescriptionStyleModel",
      "_view_count": null,
      "_view_module": "@jupyter-widgets/base",
      "_view_module_version": "1.2.0",
      "_view_name": "StyleView",
      "description_width": ""
     }
    },
    "075916b7ac324160966a91d5309b1522": {
     "model_module": "@jupyter-widgets/base",
     "model_name": "LayoutModel",
     "state": {
      "_model_module": "@jupyter-widgets/base",
      "_model_module_version": "1.2.0",
      "_model_name": "LayoutModel",
      "_view_count": null,
      "_view_module": "@jupyter-widgets/base",
      "_view_module_version": "1.2.0",
      "_view_name": "LayoutView",
      "align_content": null,
      "align_items": null,
      "align_self": null,
      "border": null,
      "bottom": null,
      "display": null,
      "flex": null,
      "flex_flow": null,
      "grid_area": null,
      "grid_auto_columns": null,
      "grid_auto_flow": null,
      "grid_auto_rows": null,
      "grid_column": null,
      "grid_gap": null,
      "grid_row": null,
      "grid_template_areas": null,
      "grid_template_columns": null,
      "grid_template_rows": null,
      "height": null,
      "justify_content": null,
      "justify_items": null,
      "left": null,
      "margin": null,
      "max_height": null,
      "max_width": null,
      "min_height": null,
      "min_width": null,
      "object_fit": null,
      "object_position": null,
      "order": null,
      "overflow": null,
      "overflow_x": null,
      "overflow_y": null,
      "padding": null,
      "right": null,
      "top": null,
      "visibility": null,
      "width": null
     }
    },
    "07f2e61460ea4296828b4aa49560af59": {
     "model_module": "@jupyter-widgets/controls",
     "model_name": "FloatProgressModel",
     "state": {
      "_dom_classes": [],
      "_model_module": "@jupyter-widgets/controls",
      "_model_module_version": "1.5.0",
      "_model_name": "FloatProgressModel",
      "_view_count": null,
      "_view_module": "@jupyter-widgets/controls",
      "_view_module_version": "1.5.0",
      "_view_name": "ProgressView",
      "bar_style": "success",
      "description": "100%",
      "description_tooltip": null,
      "layout": "IPY_MODEL_72751e702f8e4a88b0a4e636d4345816",
      "max": 110,
      "min": 0,
      "orientation": "horizontal",
      "style": "IPY_MODEL_3dd74eb9964343979874b42716149a28",
      "value": 110
     }
    },
    "0804a2f918c5440787bffce52ae7e478": {
     "model_module": "@jupyter-widgets/controls",
     "model_name": "FloatProgressModel",
     "state": {
      "_dom_classes": [],
      "_model_module": "@jupyter-widgets/controls",
      "_model_module_version": "1.5.0",
      "_model_name": "FloatProgressModel",
      "_view_count": null,
      "_view_module": "@jupyter-widgets/controls",
      "_view_module_version": "1.5.0",
      "_view_name": "ProgressView",
      "bar_style": "success",
      "description": "100%",
      "description_tooltip": null,
      "layout": "IPY_MODEL_e7fbe9f538c0429a92d86a6b1b4f8b6e",
      "max": 110,
      "min": 0,
      "orientation": "horizontal",
      "style": "IPY_MODEL_66fa8ab6a0fb4167a69e244e9e0b8750",
      "value": 110
     }
    },
    "0ac913b46eff40deb1d128f1d96db9f9": {
     "model_module": "@jupyter-widgets/base",
     "model_name": "LayoutModel",
     "state": {
      "_model_module": "@jupyter-widgets/base",
      "_model_module_version": "1.2.0",
      "_model_name": "LayoutModel",
      "_view_count": null,
      "_view_module": "@jupyter-widgets/base",
      "_view_module_version": "1.2.0",
      "_view_name": "LayoutView",
      "align_content": null,
      "align_items": null,
      "align_self": null,
      "border": null,
      "bottom": null,
      "display": null,
      "flex": null,
      "flex_flow": null,
      "grid_area": null,
      "grid_auto_columns": null,
      "grid_auto_flow": null,
      "grid_auto_rows": null,
      "grid_column": null,
      "grid_gap": null,
      "grid_row": null,
      "grid_template_areas": null,
      "grid_template_columns": null,
      "grid_template_rows": null,
      "height": null,
      "justify_content": null,
      "justify_items": null,
      "left": null,
      "margin": null,
      "max_height": null,
      "max_width": null,
      "min_height": null,
      "min_width": null,
      "object_fit": null,
      "object_position": null,
      "order": null,
      "overflow": null,
      "overflow_x": null,
      "overflow_y": null,
      "padding": null,
      "right": null,
      "top": null,
      "visibility": null,
      "width": null
     }
    },
    "0af34456a8fc4e50aa42f0ccd191f904": {
     "model_module": "@jupyter-widgets/base",
     "model_name": "LayoutModel",
     "state": {
      "_model_module": "@jupyter-widgets/base",
      "_model_module_version": "1.2.0",
      "_model_name": "LayoutModel",
      "_view_count": null,
      "_view_module": "@jupyter-widgets/base",
      "_view_module_version": "1.2.0",
      "_view_name": "LayoutView",
      "align_content": null,
      "align_items": null,
      "align_self": null,
      "border": null,
      "bottom": null,
      "display": null,
      "flex": null,
      "flex_flow": null,
      "grid_area": null,
      "grid_auto_columns": null,
      "grid_auto_flow": null,
      "grid_auto_rows": null,
      "grid_column": null,
      "grid_gap": null,
      "grid_row": null,
      "grid_template_areas": null,
      "grid_template_columns": null,
      "grid_template_rows": null,
      "height": null,
      "justify_content": null,
      "justify_items": null,
      "left": null,
      "margin": null,
      "max_height": null,
      "max_width": null,
      "min_height": null,
      "min_width": null,
      "object_fit": null,
      "object_position": null,
      "order": null,
      "overflow": null,
      "overflow_x": null,
      "overflow_y": null,
      "padding": null,
      "right": null,
      "top": null,
      "visibility": null,
      "width": null
     }
    },
    "0be98fb39ba54e1da096f1bc3e0cf357": {
     "model_module": "@jupyter-widgets/controls",
     "model_name": "DescriptionStyleModel",
     "state": {
      "_model_module": "@jupyter-widgets/controls",
      "_model_module_version": "1.5.0",
      "_model_name": "DescriptionStyleModel",
      "_view_count": null,
      "_view_module": "@jupyter-widgets/base",
      "_view_module_version": "1.2.0",
      "_view_name": "StyleView",
      "description_width": ""
     }
    },
    "0c14a4869c644958a4382dc239717653": {
     "model_module": "@jupyter-widgets/base",
     "model_name": "LayoutModel",
     "state": {
      "_model_module": "@jupyter-widgets/base",
      "_model_module_version": "1.2.0",
      "_model_name": "LayoutModel",
      "_view_count": null,
      "_view_module": "@jupyter-widgets/base",
      "_view_module_version": "1.2.0",
      "_view_name": "LayoutView",
      "align_content": null,
      "align_items": null,
      "align_self": null,
      "border": null,
      "bottom": null,
      "display": null,
      "flex": null,
      "flex_flow": null,
      "grid_area": null,
      "grid_auto_columns": null,
      "grid_auto_flow": null,
      "grid_auto_rows": null,
      "grid_column": null,
      "grid_gap": null,
      "grid_row": null,
      "grid_template_areas": null,
      "grid_template_columns": null,
      "grid_template_rows": null,
      "height": null,
      "justify_content": null,
      "justify_items": null,
      "left": null,
      "margin": null,
      "max_height": null,
      "max_width": null,
      "min_height": null,
      "min_width": null,
      "object_fit": null,
      "object_position": null,
      "order": null,
      "overflow": null,
      "overflow_x": null,
      "overflow_y": null,
      "padding": null,
      "right": null,
      "top": null,
      "visibility": null,
      "width": null
     }
    },
    "0d19089d4dea4bfb9af87e8bb0a7a618": {
     "model_module": "@jupyter-widgets/controls",
     "model_name": "HBoxModel",
     "state": {
      "_dom_classes": [],
      "_model_module": "@jupyter-widgets/controls",
      "_model_module_version": "1.5.0",
      "_model_name": "HBoxModel",
      "_view_count": null,
      "_view_module": "@jupyter-widgets/controls",
      "_view_module_version": "1.5.0",
      "_view_name": "HBoxView",
      "box_style": "",
      "children": [
       "IPY_MODEL_fa8d8efd305c445a8d732c179f784e24",
       "IPY_MODEL_354bcacab30c4e98a5c3d8e1fdca72b1"
      ],
      "layout": "IPY_MODEL_59e7c9af40654b35970c5d58c253c173"
     }
    },
    "0ff7cbd4eeb64167908209238289647d": {
     "model_module": "@jupyter-widgets/base",
     "model_name": "LayoutModel",
     "state": {
      "_model_module": "@jupyter-widgets/base",
      "_model_module_version": "1.2.0",
      "_model_name": "LayoutModel",
      "_view_count": null,
      "_view_module": "@jupyter-widgets/base",
      "_view_module_version": "1.2.0",
      "_view_name": "LayoutView",
      "align_content": null,
      "align_items": null,
      "align_self": null,
      "border": null,
      "bottom": null,
      "display": null,
      "flex": null,
      "flex_flow": null,
      "grid_area": null,
      "grid_auto_columns": null,
      "grid_auto_flow": null,
      "grid_auto_rows": null,
      "grid_column": null,
      "grid_gap": null,
      "grid_row": null,
      "grid_template_areas": null,
      "grid_template_columns": null,
      "grid_template_rows": null,
      "height": null,
      "justify_content": null,
      "justify_items": null,
      "left": null,
      "margin": null,
      "max_height": null,
      "max_width": null,
      "min_height": null,
      "min_width": null,
      "object_fit": null,
      "object_position": null,
      "order": null,
      "overflow": null,
      "overflow_x": null,
      "overflow_y": null,
      "padding": null,
      "right": null,
      "top": null,
      "visibility": null,
      "width": null
     }
    },
    "14c00c3a6b59488fb2a40beb65f6cd90": {
     "model_module": "@jupyter-widgets/base",
     "model_name": "LayoutModel",
     "state": {
      "_model_module": "@jupyter-widgets/base",
      "_model_module_version": "1.2.0",
      "_model_name": "LayoutModel",
      "_view_count": null,
      "_view_module": "@jupyter-widgets/base",
      "_view_module_version": "1.2.0",
      "_view_name": "LayoutView",
      "align_content": null,
      "align_items": null,
      "align_self": null,
      "border": null,
      "bottom": null,
      "display": null,
      "flex": null,
      "flex_flow": null,
      "grid_area": null,
      "grid_auto_columns": null,
      "grid_auto_flow": null,
      "grid_auto_rows": null,
      "grid_column": null,
      "grid_gap": null,
      "grid_row": null,
      "grid_template_areas": null,
      "grid_template_columns": null,
      "grid_template_rows": null,
      "height": null,
      "justify_content": null,
      "justify_items": null,
      "left": null,
      "margin": null,
      "max_height": null,
      "max_width": null,
      "min_height": null,
      "min_width": null,
      "object_fit": null,
      "object_position": null,
      "order": null,
      "overflow": null,
      "overflow_x": null,
      "overflow_y": null,
      "padding": null,
      "right": null,
      "top": null,
      "visibility": null,
      "width": null
     }
    },
    "162716710e904819ab164776cd0e76bd": {
     "model_module": "@jupyter-widgets/controls",
     "model_name": "DescriptionStyleModel",
     "state": {
      "_model_module": "@jupyter-widgets/controls",
      "_model_module_version": "1.5.0",
      "_model_name": "DescriptionStyleModel",
      "_view_count": null,
      "_view_module": "@jupyter-widgets/base",
      "_view_module_version": "1.2.0",
      "_view_name": "StyleView",
      "description_width": ""
     }
    },
    "1687139e36ee4e13ae7bf86d84849c87": {
     "model_module": "@jupyter-widgets/controls",
     "model_name": "FloatProgressModel",
     "state": {
      "_dom_classes": [],
      "_model_module": "@jupyter-widgets/controls",
      "_model_module_version": "1.5.0",
      "_model_name": "FloatProgressModel",
      "_view_count": null,
      "_view_module": "@jupyter-widgets/controls",
      "_view_module_version": "1.5.0",
      "_view_name": "ProgressView",
      "bar_style": "success",
      "description": "100%",
      "description_tooltip": null,
      "layout": "IPY_MODEL_9c6c6cca97b64fbe8fd84503b3eb8c52",
      "max": 87306240,
      "min": 0,
      "orientation": "horizontal",
      "style": "IPY_MODEL_87019e974aac41e1b528b290e432f21d",
      "value": 87306240
     }
    },
    "18a5ab97faa54a6586d27d1c4627318a": {
     "model_module": "@jupyter-widgets/controls",
     "model_name": "HBoxModel",
     "state": {
      "_dom_classes": [],
      "_model_module": "@jupyter-widgets/controls",
      "_model_module_version": "1.5.0",
      "_model_name": "HBoxModel",
      "_view_count": null,
      "_view_module": "@jupyter-widgets/controls",
      "_view_module_version": "1.5.0",
      "_view_name": "HBoxView",
      "box_style": "",
      "children": [
       "IPY_MODEL_0804a2f918c5440787bffce52ae7e478",
       "IPY_MODEL_b2680569801148a7ae7b808d60800604"
      ],
      "layout": "IPY_MODEL_d7e4987ef1914d5d84abb05aab88f440"
     }
    },
    "207fb83081594bc983760a96126e7de6": {
     "model_module": "@jupyter-widgets/base",
     "model_name": "LayoutModel",
     "state": {
      "_model_module": "@jupyter-widgets/base",
      "_model_module_version": "1.2.0",
      "_model_name": "LayoutModel",
      "_view_count": null,
      "_view_module": "@jupyter-widgets/base",
      "_view_module_version": "1.2.0",
      "_view_name": "LayoutView",
      "align_content": null,
      "align_items": null,
      "align_self": null,
      "border": null,
      "bottom": null,
      "display": null,
      "flex": null,
      "flex_flow": null,
      "grid_area": null,
      "grid_auto_columns": null,
      "grid_auto_flow": null,
      "grid_auto_rows": null,
      "grid_column": null,
      "grid_gap": null,
      "grid_row": null,
      "grid_template_areas": null,
      "grid_template_columns": null,
      "grid_template_rows": null,
      "height": null,
      "justify_content": null,
      "justify_items": null,
      "left": null,
      "margin": null,
      "max_height": null,
      "max_width": null,
      "min_height": null,
      "min_width": null,
      "object_fit": null,
      "object_position": null,
      "order": null,
      "overflow": null,
      "overflow_x": null,
      "overflow_y": null,
      "padding": null,
      "right": null,
      "top": null,
      "visibility": null,
      "width": null
     }
    },
    "245fd878aabd4004a99e1351eb4c730d": {
     "model_module": "@jupyter-widgets/controls",
     "model_name": "ProgressStyleModel",
     "state": {
      "_model_module": "@jupyter-widgets/controls",
      "_model_module_version": "1.5.0",
      "_model_name": "ProgressStyleModel",
      "_view_count": null,
      "_view_module": "@jupyter-widgets/base",
      "_view_module_version": "1.2.0",
      "_view_name": "StyleView",
      "bar_color": null,
      "description_width": "initial"
     }
    },
    "260210c020934d2794b3acd797d08078": {
     "model_module": "@jupyter-widgets/controls",
     "model_name": "FloatProgressModel",
     "state": {
      "_dom_classes": [],
      "_model_module": "@jupyter-widgets/controls",
      "_model_module_version": "1.5.0",
      "_model_name": "FloatProgressModel",
      "_view_count": null,
      "_view_module": "@jupyter-widgets/controls",
      "_view_module_version": "1.5.0",
      "_view_name": "ProgressView",
      "bar_style": "success",
      "description": "100%",
      "description_tooltip": null,
      "layout": "IPY_MODEL_48411eb10713405fb2e3855a71c335a3",
      "max": 110,
      "min": 0,
      "orientation": "horizontal",
      "style": "IPY_MODEL_afaef090daad474391af06283f8fd826",
      "value": 110
     }
    },
    "28e3f69e4c1443358842b18469de688b": {
     "model_module": "@jupyter-widgets/controls",
     "model_name": "FloatProgressModel",
     "state": {
      "_dom_classes": [],
      "_model_module": "@jupyter-widgets/controls",
      "_model_module_version": "1.5.0",
      "_model_name": "FloatProgressModel",
      "_view_count": null,
      "_view_module": "@jupyter-widgets/controls",
      "_view_module_version": "1.5.0",
      "_view_name": "ProgressView",
      "bar_style": "success",
      "description": "100%",
      "description_tooltip": null,
      "layout": "IPY_MODEL_c08c47980286401c9d6dbed5a6367324",
      "max": 110,
      "min": 0,
      "orientation": "horizontal",
      "style": "IPY_MODEL_9fc106c996c84d539a62b88f2c0383a0",
      "value": 110
     }
    },
    "2dff05fed81f48d5b3c179f3e196070a": {
     "model_module": "@jupyter-widgets/base",
     "model_name": "LayoutModel",
     "state": {
      "_model_module": "@jupyter-widgets/base",
      "_model_module_version": "1.2.0",
      "_model_name": "LayoutModel",
      "_view_count": null,
      "_view_module": "@jupyter-widgets/base",
      "_view_module_version": "1.2.0",
      "_view_name": "LayoutView",
      "align_content": null,
      "align_items": null,
      "align_self": null,
      "border": null,
      "bottom": null,
      "display": null,
      "flex": null,
      "flex_flow": null,
      "grid_area": null,
      "grid_auto_columns": null,
      "grid_auto_flow": null,
      "grid_auto_rows": null,
      "grid_column": null,
      "grid_gap": null,
      "grid_row": null,
      "grid_template_areas": null,
      "grid_template_columns": null,
      "grid_template_rows": null,
      "height": null,
      "justify_content": null,
      "justify_items": null,
      "left": null,
      "margin": null,
      "max_height": null,
      "max_width": null,
      "min_height": null,
      "min_width": null,
      "object_fit": null,
      "object_position": null,
      "order": null,
      "overflow": null,
      "overflow_x": null,
      "overflow_y": null,
      "padding": null,
      "right": null,
      "top": null,
      "visibility": null,
      "width": null
     }
    },
    "30285bd643b24664b9636b277b84afef": {
     "model_module": "@jupyter-widgets/controls",
     "model_name": "HTMLModel",
     "state": {
      "_dom_classes": [],
      "_model_module": "@jupyter-widgets/controls",
      "_model_module_version": "1.5.0",
      "_model_name": "HTMLModel",
      "_view_count": null,
      "_view_module": "@jupyter-widgets/controls",
      "_view_module_version": "1.5.0",
      "_view_name": "HTMLView",
      "description": "",
      "description_tooltip": null,
      "layout": "IPY_MODEL_85acab04f1854e06aafe5c13f3eb0ed3",
      "placeholder": "​",
      "style": "IPY_MODEL_0be98fb39ba54e1da096f1bc3e0cf357",
      "value": " 110/110 [00:31&lt;00:00,  3.45it/s]"
     }
    },
    "354bcacab30c4e98a5c3d8e1fdca72b1": {
     "model_module": "@jupyter-widgets/controls",
     "model_name": "HTMLModel",
     "state": {
      "_dom_classes": [],
      "_model_module": "@jupyter-widgets/controls",
      "_model_module_version": "1.5.0",
      "_model_name": "HTMLModel",
      "_view_count": null,
      "_view_module": "@jupyter-widgets/controls",
      "_view_module_version": "1.5.0",
      "_view_name": "HTMLView",
      "description": "",
      "description_tooltip": null,
      "layout": "IPY_MODEL_2dff05fed81f48d5b3c179f3e196070a",
      "placeholder": "​",
      "style": "IPY_MODEL_a116f62391184d90a5a673338691ea97",
      "value": " 110/110 [01:03&lt;00:00,  1.74it/s]"
     }
    },
    "3dd74eb9964343979874b42716149a28": {
     "model_module": "@jupyter-widgets/controls",
     "model_name": "ProgressStyleModel",
     "state": {
      "_model_module": "@jupyter-widgets/controls",
      "_model_module_version": "1.5.0",
      "_model_name": "ProgressStyleModel",
      "_view_count": null,
      "_view_module": "@jupyter-widgets/base",
      "_view_module_version": "1.2.0",
      "_view_name": "StyleView",
      "bar_color": null,
      "description_width": "initial"
     }
    },
    "48411eb10713405fb2e3855a71c335a3": {
     "model_module": "@jupyter-widgets/base",
     "model_name": "LayoutModel",
     "state": {
      "_model_module": "@jupyter-widgets/base",
      "_model_module_version": "1.2.0",
      "_model_name": "LayoutModel",
      "_view_count": null,
      "_view_module": "@jupyter-widgets/base",
      "_view_module_version": "1.2.0",
      "_view_name": "LayoutView",
      "align_content": null,
      "align_items": null,
      "align_self": null,
      "border": null,
      "bottom": null,
      "display": null,
      "flex": null,
      "flex_flow": null,
      "grid_area": null,
      "grid_auto_columns": null,
      "grid_auto_flow": null,
      "grid_auto_rows": null,
      "grid_column": null,
      "grid_gap": null,
      "grid_row": null,
      "grid_template_areas": null,
      "grid_template_columns": null,
      "grid_template_rows": null,
      "height": null,
      "justify_content": null,
      "justify_items": null,
      "left": null,
      "margin": null,
      "max_height": null,
      "max_width": null,
      "min_height": null,
      "min_width": null,
      "object_fit": null,
      "object_position": null,
      "order": null,
      "overflow": null,
      "overflow_x": null,
      "overflow_y": null,
      "padding": null,
      "right": null,
      "top": null,
      "visibility": null,
      "width": null
     }
    },
    "4ccd9b3641ee4c1196083e8ca4ad25c2": {
     "model_module": "@jupyter-widgets/base",
     "model_name": "LayoutModel",
     "state": {
      "_model_module": "@jupyter-widgets/base",
      "_model_module_version": "1.2.0",
      "_model_name": "LayoutModel",
      "_view_count": null,
      "_view_module": "@jupyter-widgets/base",
      "_view_module_version": "1.2.0",
      "_view_name": "LayoutView",
      "align_content": null,
      "align_items": null,
      "align_self": null,
      "border": null,
      "bottom": null,
      "display": null,
      "flex": null,
      "flex_flow": null,
      "grid_area": null,
      "grid_auto_columns": null,
      "grid_auto_flow": null,
      "grid_auto_rows": null,
      "grid_column": null,
      "grid_gap": null,
      "grid_row": null,
      "grid_template_areas": null,
      "grid_template_columns": null,
      "grid_template_rows": null,
      "height": null,
      "justify_content": null,
      "justify_items": null,
      "left": null,
      "margin": null,
      "max_height": null,
      "max_width": null,
      "min_height": null,
      "min_width": null,
      "object_fit": null,
      "object_position": null,
      "order": null,
      "overflow": null,
      "overflow_x": null,
      "overflow_y": null,
      "padding": null,
      "right": null,
      "top": null,
      "visibility": null,
      "width": null
     }
    },
    "4dc353c1ab374a9dbb0a69100abcd408": {
     "model_module": "@jupyter-widgets/controls",
     "model_name": "ProgressStyleModel",
     "state": {
      "_model_module": "@jupyter-widgets/controls",
      "_model_module_version": "1.5.0",
      "_model_name": "ProgressStyleModel",
      "_view_count": null,
      "_view_module": "@jupyter-widgets/base",
      "_view_module_version": "1.2.0",
      "_view_name": "StyleView",
      "bar_color": null,
      "description_width": "initial"
     }
    },
    "5077bdcbe704438fa54d60427125ca71": {
     "model_module": "@jupyter-widgets/controls",
     "model_name": "HBoxModel",
     "state": {
      "_dom_classes": [],
      "_model_module": "@jupyter-widgets/controls",
      "_model_module_version": "1.5.0",
      "_model_name": "HBoxModel",
      "_view_count": null,
      "_view_module": "@jupyter-widgets/controls",
      "_view_module_version": "1.5.0",
      "_view_name": "HBoxView",
      "box_style": "",
      "children": [
       "IPY_MODEL_28e3f69e4c1443358842b18469de688b",
       "IPY_MODEL_f6a2446c89684ba397438aaadd64724b"
      ],
      "layout": "IPY_MODEL_0ff7cbd4eeb64167908209238289647d"
     }
    },
    "5083ade3ab50441eac3ff7d53172fb1d": {
     "model_module": "@jupyter-widgets/controls",
     "model_name": "ProgressStyleModel",
     "state": {
      "_model_module": "@jupyter-widgets/controls",
      "_model_module_version": "1.5.0",
      "_model_name": "ProgressStyleModel",
      "_view_count": null,
      "_view_module": "@jupyter-widgets/base",
      "_view_module_version": "1.2.0",
      "_view_name": "StyleView",
      "bar_color": null,
      "description_width": "initial"
     }
    },
    "53f70c4865994b87b2f926a7f073824b": {
     "model_module": "@jupyter-widgets/base",
     "model_name": "LayoutModel",
     "state": {
      "_model_module": "@jupyter-widgets/base",
      "_model_module_version": "1.2.0",
      "_model_name": "LayoutModel",
      "_view_count": null,
      "_view_module": "@jupyter-widgets/base",
      "_view_module_version": "1.2.0",
      "_view_name": "LayoutView",
      "align_content": null,
      "align_items": null,
      "align_self": null,
      "border": null,
      "bottom": null,
      "display": null,
      "flex": null,
      "flex_flow": null,
      "grid_area": null,
      "grid_auto_columns": null,
      "grid_auto_flow": null,
      "grid_auto_rows": null,
      "grid_column": null,
      "grid_gap": null,
      "grid_row": null,
      "grid_template_areas": null,
      "grid_template_columns": null,
      "grid_template_rows": null,
      "height": null,
      "justify_content": null,
      "justify_items": null,
      "left": null,
      "margin": null,
      "max_height": null,
      "max_width": null,
      "min_height": null,
      "min_width": null,
      "object_fit": null,
      "object_position": null,
      "order": null,
      "overflow": null,
      "overflow_x": null,
      "overflow_y": null,
      "padding": null,
      "right": null,
      "top": null,
      "visibility": null,
      "width": null
     }
    },
    "5449aa678ad64eeabd21dcc10eeff1c3": {
     "model_module": "@jupyter-widgets/controls",
     "model_name": "HTMLModel",
     "state": {
      "_dom_classes": [],
      "_model_module": "@jupyter-widgets/controls",
      "_model_module_version": "1.5.0",
      "_model_name": "HTMLModel",
      "_view_count": null,
      "_view_module": "@jupyter-widgets/controls",
      "_view_module_version": "1.5.0",
      "_view_name": "HTMLView",
      "description": "",
      "description_tooltip": null,
      "layout": "IPY_MODEL_773a433bc4c74dca8c53d0cc6c9b277f",
      "placeholder": "​",
      "style": "IPY_MODEL_b2f6e7e8817340028b259b60cd3b5dc6",
      "value": " 110/110 [10:02&lt;00:00,  5.48s/it]"
     }
    },
    "572f03655e37464785b90610d5ea27c9": {
     "model_module": "@jupyter-widgets/controls",
     "model_name": "HTMLModel",
     "state": {
      "_dom_classes": [],
      "_model_module": "@jupyter-widgets/controls",
      "_model_module_version": "1.5.0",
      "_model_name": "HTMLModel",
      "_view_count": null,
      "_view_module": "@jupyter-widgets/controls",
      "_view_module_version": "1.5.0",
      "_view_name": "HTMLView",
      "description": "",
      "description_tooltip": null,
      "layout": "IPY_MODEL_4ccd9b3641ee4c1196083e8ca4ad25c2",
      "placeholder": "​",
      "style": "IPY_MODEL_b1e160198a7d4f33a401a32f9d5d58f4",
      "value": " 110/110 [01:35&lt;00:00,  1.16it/s]"
     }
    },
    "583dffbee00a4690ba650267032c76bb": {
     "model_module": "@jupyter-widgets/base",
     "model_name": "LayoutModel",
     "state": {
      "_model_module": "@jupyter-widgets/base",
      "_model_module_version": "1.2.0",
      "_model_name": "LayoutModel",
      "_view_count": null,
      "_view_module": "@jupyter-widgets/base",
      "_view_module_version": "1.2.0",
      "_view_name": "LayoutView",
      "align_content": null,
      "align_items": null,
      "align_self": null,
      "border": null,
      "bottom": null,
      "display": null,
      "flex": null,
      "flex_flow": null,
      "grid_area": null,
      "grid_auto_columns": null,
      "grid_auto_flow": null,
      "grid_auto_rows": null,
      "grid_column": null,
      "grid_gap": null,
      "grid_row": null,
      "grid_template_areas": null,
      "grid_template_columns": null,
      "grid_template_rows": null,
      "height": null,
      "justify_content": null,
      "justify_items": null,
      "left": null,
      "margin": null,
      "max_height": null,
      "max_width": null,
      "min_height": null,
      "min_width": null,
      "object_fit": null,
      "object_position": null,
      "order": null,
      "overflow": null,
      "overflow_x": null,
      "overflow_y": null,
      "padding": null,
      "right": null,
      "top": null,
      "visibility": null,
      "width": null
     }
    },
    "59e7c9af40654b35970c5d58c253c173": {
     "model_module": "@jupyter-widgets/base",
     "model_name": "LayoutModel",
     "state": {
      "_model_module": "@jupyter-widgets/base",
      "_model_module_version": "1.2.0",
      "_model_name": "LayoutModel",
      "_view_count": null,
      "_view_module": "@jupyter-widgets/base",
      "_view_module_version": "1.2.0",
      "_view_name": "LayoutView",
      "align_content": null,
      "align_items": null,
      "align_self": null,
      "border": null,
      "bottom": null,
      "display": null,
      "flex": null,
      "flex_flow": null,
      "grid_area": null,
      "grid_auto_columns": null,
      "grid_auto_flow": null,
      "grid_auto_rows": null,
      "grid_column": null,
      "grid_gap": null,
      "grid_row": null,
      "grid_template_areas": null,
      "grid_template_columns": null,
      "grid_template_rows": null,
      "height": null,
      "justify_content": null,
      "justify_items": null,
      "left": null,
      "margin": null,
      "max_height": null,
      "max_width": null,
      "min_height": null,
      "min_width": null,
      "object_fit": null,
      "object_position": null,
      "order": null,
      "overflow": null,
      "overflow_x": null,
      "overflow_y": null,
      "padding": null,
      "right": null,
      "top": null,
      "visibility": null,
      "width": null
     }
    },
    "5d888bd7384d4cfaaa71b9fc480956b4": {
     "model_module": "@jupyter-widgets/controls",
     "model_name": "ProgressStyleModel",
     "state": {
      "_model_module": "@jupyter-widgets/controls",
      "_model_module_version": "1.5.0",
      "_model_name": "ProgressStyleModel",
      "_view_count": null,
      "_view_module": "@jupyter-widgets/base",
      "_view_module_version": "1.2.0",
      "_view_name": "StyleView",
      "bar_color": null,
      "description_width": "initial"
     }
    },
    "5ee32cfa80b948a9b9c8bfd2785ea881": {
     "model_module": "@jupyter-widgets/controls",
     "model_name": "HTMLModel",
     "state": {
      "_dom_classes": [],
      "_model_module": "@jupyter-widgets/controls",
      "_model_module_version": "1.5.0",
      "_model_name": "HTMLModel",
      "_view_count": null,
      "_view_module": "@jupyter-widgets/controls",
      "_view_module_version": "1.5.0",
      "_view_name": "HTMLView",
      "description": "",
      "description_tooltip": null,
      "layout": "IPY_MODEL_53f70c4865994b87b2f926a7f073824b",
      "placeholder": "​",
      "style": "IPY_MODEL_c0a1d085795243b18ce5686f618fc44f",
      "value": " 110/110 [00:27&lt;00:00,  4.06it/s]"
     }
    },
    "66fa8ab6a0fb4167a69e244e9e0b8750": {
     "model_module": "@jupyter-widgets/controls",
     "model_name": "ProgressStyleModel",
     "state": {
      "_model_module": "@jupyter-widgets/controls",
      "_model_module_version": "1.5.0",
      "_model_name": "ProgressStyleModel",
      "_view_count": null,
      "_view_module": "@jupyter-widgets/base",
      "_view_module_version": "1.2.0",
      "_view_name": "StyleView",
      "bar_color": null,
      "description_width": "initial"
     }
    },
    "6ae77842c64048988159bc13c708f1c6": {
     "model_module": "@jupyter-widgets/base",
     "model_name": "LayoutModel",
     "state": {
      "_model_module": "@jupyter-widgets/base",
      "_model_module_version": "1.2.0",
      "_model_name": "LayoutModel",
      "_view_count": null,
      "_view_module": "@jupyter-widgets/base",
      "_view_module_version": "1.2.0",
      "_view_name": "LayoutView",
      "align_content": null,
      "align_items": null,
      "align_self": null,
      "border": null,
      "bottom": null,
      "display": null,
      "flex": null,
      "flex_flow": null,
      "grid_area": null,
      "grid_auto_columns": null,
      "grid_auto_flow": null,
      "grid_auto_rows": null,
      "grid_column": null,
      "grid_gap": null,
      "grid_row": null,
      "grid_template_areas": null,
      "grid_template_columns": null,
      "grid_template_rows": null,
      "height": null,
      "justify_content": null,
      "justify_items": null,
      "left": null,
      "margin": null,
      "max_height": null,
      "max_width": null,
      "min_height": null,
      "min_width": null,
      "object_fit": null,
      "object_position": null,
      "order": null,
      "overflow": null,
      "overflow_x": null,
      "overflow_y": null,
      "padding": null,
      "right": null,
      "top": null,
      "visibility": null,
      "width": null
     }
    },
    "6bbbf858c2d841da8ad4c341641cfe42": {
     "model_module": "@jupyter-widgets/controls",
     "model_name": "DescriptionStyleModel",
     "state": {
      "_model_module": "@jupyter-widgets/controls",
      "_model_module_version": "1.5.0",
      "_model_name": "DescriptionStyleModel",
      "_view_count": null,
      "_view_module": "@jupyter-widgets/base",
      "_view_module_version": "1.2.0",
      "_view_name": "StyleView",
      "description_width": ""
     }
    },
    "6bc6a9e632c346189ea9e3f93e2f20bf": {
     "model_module": "@jupyter-widgets/controls",
     "model_name": "DescriptionStyleModel",
     "state": {
      "_model_module": "@jupyter-widgets/controls",
      "_model_module_version": "1.5.0",
      "_model_name": "DescriptionStyleModel",
      "_view_count": null,
      "_view_module": "@jupyter-widgets/base",
      "_view_module_version": "1.2.0",
      "_view_name": "StyleView",
      "description_width": ""
     }
    },
    "6d8f8dccf6eb42f2b63c027eacbe5491": {
     "model_module": "@jupyter-widgets/base",
     "model_name": "LayoutModel",
     "state": {
      "_model_module": "@jupyter-widgets/base",
      "_model_module_version": "1.2.0",
      "_model_name": "LayoutModel",
      "_view_count": null,
      "_view_module": "@jupyter-widgets/base",
      "_view_module_version": "1.2.0",
      "_view_name": "LayoutView",
      "align_content": null,
      "align_items": null,
      "align_self": null,
      "border": null,
      "bottom": null,
      "display": null,
      "flex": null,
      "flex_flow": null,
      "grid_area": null,
      "grid_auto_columns": null,
      "grid_auto_flow": null,
      "grid_auto_rows": null,
      "grid_column": null,
      "grid_gap": null,
      "grid_row": null,
      "grid_template_areas": null,
      "grid_template_columns": null,
      "grid_template_rows": null,
      "height": null,
      "justify_content": null,
      "justify_items": null,
      "left": null,
      "margin": null,
      "max_height": null,
      "max_width": null,
      "min_height": null,
      "min_width": null,
      "object_fit": null,
      "object_position": null,
      "order": null,
      "overflow": null,
      "overflow_x": null,
      "overflow_y": null,
      "padding": null,
      "right": null,
      "top": null,
      "visibility": null,
      "width": null
     }
    },
    "6e64f64cecdd453e9b7d4e9a71bfff3e": {
     "model_module": "@jupyter-widgets/base",
     "model_name": "LayoutModel",
     "state": {
      "_model_module": "@jupyter-widgets/base",
      "_model_module_version": "1.2.0",
      "_model_name": "LayoutModel",
      "_view_count": null,
      "_view_module": "@jupyter-widgets/base",
      "_view_module_version": "1.2.0",
      "_view_name": "LayoutView",
      "align_content": null,
      "align_items": null,
      "align_self": null,
      "border": null,
      "bottom": null,
      "display": null,
      "flex": null,
      "flex_flow": null,
      "grid_area": null,
      "grid_auto_columns": null,
      "grid_auto_flow": null,
      "grid_auto_rows": null,
      "grid_column": null,
      "grid_gap": null,
      "grid_row": null,
      "grid_template_areas": null,
      "grid_template_columns": null,
      "grid_template_rows": null,
      "height": null,
      "justify_content": null,
      "justify_items": null,
      "left": null,
      "margin": null,
      "max_height": null,
      "max_width": null,
      "min_height": null,
      "min_width": null,
      "object_fit": null,
      "object_position": null,
      "order": null,
      "overflow": null,
      "overflow_x": null,
      "overflow_y": null,
      "padding": null,
      "right": null,
      "top": null,
      "visibility": null,
      "width": null
     }
    },
    "72751e702f8e4a88b0a4e636d4345816": {
     "model_module": "@jupyter-widgets/base",
     "model_name": "LayoutModel",
     "state": {
      "_model_module": "@jupyter-widgets/base",
      "_model_module_version": "1.2.0",
      "_model_name": "LayoutModel",
      "_view_count": null,
      "_view_module": "@jupyter-widgets/base",
      "_view_module_version": "1.2.0",
      "_view_name": "LayoutView",
      "align_content": null,
      "align_items": null,
      "align_self": null,
      "border": null,
      "bottom": null,
      "display": null,
      "flex": null,
      "flex_flow": null,
      "grid_area": null,
      "grid_auto_columns": null,
      "grid_auto_flow": null,
      "grid_auto_rows": null,
      "grid_column": null,
      "grid_gap": null,
      "grid_row": null,
      "grid_template_areas": null,
      "grid_template_columns": null,
      "grid_template_rows": null,
      "height": null,
      "justify_content": null,
      "justify_items": null,
      "left": null,
      "margin": null,
      "max_height": null,
      "max_width": null,
      "min_height": null,
      "min_width": null,
      "object_fit": null,
      "object_position": null,
      "order": null,
      "overflow": null,
      "overflow_x": null,
      "overflow_y": null,
      "padding": null,
      "right": null,
      "top": null,
      "visibility": null,
      "width": null
     }
    },
    "729c80ae3aa74be1ae1f157240e00072": {
     "model_module": "@jupyter-widgets/base",
     "model_name": "LayoutModel",
     "state": {
      "_model_module": "@jupyter-widgets/base",
      "_model_module_version": "1.2.0",
      "_model_name": "LayoutModel",
      "_view_count": null,
      "_view_module": "@jupyter-widgets/base",
      "_view_module_version": "1.2.0",
      "_view_name": "LayoutView",
      "align_content": null,
      "align_items": null,
      "align_self": null,
      "border": null,
      "bottom": null,
      "display": null,
      "flex": null,
      "flex_flow": null,
      "grid_area": null,
      "grid_auto_columns": null,
      "grid_auto_flow": null,
      "grid_auto_rows": null,
      "grid_column": null,
      "grid_gap": null,
      "grid_row": null,
      "grid_template_areas": null,
      "grid_template_columns": null,
      "grid_template_rows": null,
      "height": null,
      "justify_content": null,
      "justify_items": null,
      "left": null,
      "margin": null,
      "max_height": null,
      "max_width": null,
      "min_height": null,
      "min_width": null,
      "object_fit": null,
      "object_position": null,
      "order": null,
      "overflow": null,
      "overflow_x": null,
      "overflow_y": null,
      "padding": null,
      "right": null,
      "top": null,
      "visibility": null,
      "width": null
     }
    },
    "77286e3ad4b9475f892819c8c257bd7a": {
     "model_module": "@jupyter-widgets/controls",
     "model_name": "HBoxModel",
     "state": {
      "_dom_classes": [],
      "_model_module": "@jupyter-widgets/controls",
      "_model_module_version": "1.5.0",
      "_model_name": "HBoxModel",
      "_view_count": null,
      "_view_module": "@jupyter-widgets/controls",
      "_view_module_version": "1.5.0",
      "_view_name": "HBoxView",
      "box_style": "",
      "children": [
       "IPY_MODEL_d8bb1282c34446c696bb4f27e5792e32",
       "IPY_MODEL_30285bd643b24664b9636b277b84afef"
      ],
      "layout": "IPY_MODEL_207fb83081594bc983760a96126e7de6"
     }
    },
    "773a433bc4c74dca8c53d0cc6c9b277f": {
     "model_module": "@jupyter-widgets/base",
     "model_name": "LayoutModel",
     "state": {
      "_model_module": "@jupyter-widgets/base",
      "_model_module_version": "1.2.0",
      "_model_name": "LayoutModel",
      "_view_count": null,
      "_view_module": "@jupyter-widgets/base",
      "_view_module_version": "1.2.0",
      "_view_name": "LayoutView",
      "align_content": null,
      "align_items": null,
      "align_self": null,
      "border": null,
      "bottom": null,
      "display": null,
      "flex": null,
      "flex_flow": null,
      "grid_area": null,
      "grid_auto_columns": null,
      "grid_auto_flow": null,
      "grid_auto_rows": null,
      "grid_column": null,
      "grid_gap": null,
      "grid_row": null,
      "grid_template_areas": null,
      "grid_template_columns": null,
      "grid_template_rows": null,
      "height": null,
      "justify_content": null,
      "justify_items": null,
      "left": null,
      "margin": null,
      "max_height": null,
      "max_width": null,
      "min_height": null,
      "min_width": null,
      "object_fit": null,
      "object_position": null,
      "order": null,
      "overflow": null,
      "overflow_x": null,
      "overflow_y": null,
      "padding": null,
      "right": null,
      "top": null,
      "visibility": null,
      "width": null
     }
    },
    "77f2d4d5680645b996e93dcfe8b5c2b5": {
     "model_module": "@jupyter-widgets/controls",
     "model_name": "HTMLModel",
     "state": {
      "_dom_classes": [],
      "_model_module": "@jupyter-widgets/controls",
      "_model_module_version": "1.5.0",
      "_model_name": "HTMLModel",
      "_view_count": null,
      "_view_module": "@jupyter-widgets/controls",
      "_view_module_version": "1.5.0",
      "_view_name": "HTMLView",
      "description": "",
      "description_tooltip": null,
      "layout": "IPY_MODEL_a6c1e0404cb14a118e6de90e324d6e8a",
      "placeholder": "​",
      "style": "IPY_MODEL_06d3c709b50a423b9a4e2750d4cb5d3b",
      "value": " 110/110 [00:26&lt;00:00,  4.14it/s]"
     }
    },
    "7a69e12637f849edb65a3a21adf577b9": {
     "model_module": "@jupyter-widgets/controls",
     "model_name": "HBoxModel",
     "state": {
      "_dom_classes": [],
      "_model_module": "@jupyter-widgets/controls",
      "_model_module_version": "1.5.0",
      "_model_name": "HBoxModel",
      "_view_count": null,
      "_view_module": "@jupyter-widgets/controls",
      "_view_module_version": "1.5.0",
      "_view_name": "HBoxView",
      "box_style": "",
      "children": [
       "IPY_MODEL_f62299ce508243c98b12f0b1355b15a8",
       "IPY_MODEL_e8a23c6f8fbb4bf78fdb819d4adf8995"
      ],
      "layout": "IPY_MODEL_6ae77842c64048988159bc13c708f1c6"
     }
    },
    "7bf90d2d2a3e404e8dd344c908975712": {
     "model_module": "@jupyter-widgets/controls",
     "model_name": "HTMLModel",
     "state": {
      "_dom_classes": [],
      "_model_module": "@jupyter-widgets/controls",
      "_model_module_version": "1.5.0",
      "_model_name": "HTMLModel",
      "_view_count": null,
      "_view_module": "@jupyter-widgets/controls",
      "_view_module_version": "1.5.0",
      "_view_name": "HTMLView",
      "description": "",
      "description_tooltip": null,
      "layout": "IPY_MODEL_e47412fe630d41afaf6ed370d6f4a7bf",
      "placeholder": "​",
      "style": "IPY_MODEL_b80d9c8d3e014c54a4cbed28df2e5cbf",
      "value": " 110/110 [00:34&lt;00:00,  3.17it/s]"
     }
    },
    "7c94058ebb1a41ffb753b5af556fc7fb": {
     "model_module": "@jupyter-widgets/base",
     "model_name": "LayoutModel",
     "state": {
      "_model_module": "@jupyter-widgets/base",
      "_model_module_version": "1.2.0",
      "_model_name": "LayoutModel",
      "_view_count": null,
      "_view_module": "@jupyter-widgets/base",
      "_view_module_version": "1.2.0",
      "_view_name": "LayoutView",
      "align_content": null,
      "align_items": null,
      "align_self": null,
      "border": null,
      "bottom": null,
      "display": null,
      "flex": null,
      "flex_flow": null,
      "grid_area": null,
      "grid_auto_columns": null,
      "grid_auto_flow": null,
      "grid_auto_rows": null,
      "grid_column": null,
      "grid_gap": null,
      "grid_row": null,
      "grid_template_areas": null,
      "grid_template_columns": null,
      "grid_template_rows": null,
      "height": null,
      "justify_content": null,
      "justify_items": null,
      "left": null,
      "margin": null,
      "max_height": null,
      "max_width": null,
      "min_height": null,
      "min_width": null,
      "object_fit": null,
      "object_position": null,
      "order": null,
      "overflow": null,
      "overflow_x": null,
      "overflow_y": null,
      "padding": null,
      "right": null,
      "top": null,
      "visibility": null,
      "width": null
     }
    },
    "7fe2bc1bf20a4bc6822dd8ce61bea13c": {
     "model_module": "@jupyter-widgets/base",
     "model_name": "LayoutModel",
     "state": {
      "_model_module": "@jupyter-widgets/base",
      "_model_module_version": "1.2.0",
      "_model_name": "LayoutModel",
      "_view_count": null,
      "_view_module": "@jupyter-widgets/base",
      "_view_module_version": "1.2.0",
      "_view_name": "LayoutView",
      "align_content": null,
      "align_items": null,
      "align_self": null,
      "border": null,
      "bottom": null,
      "display": null,
      "flex": null,
      "flex_flow": null,
      "grid_area": null,
      "grid_auto_columns": null,
      "grid_auto_flow": null,
      "grid_auto_rows": null,
      "grid_column": null,
      "grid_gap": null,
      "grid_row": null,
      "grid_template_areas": null,
      "grid_template_columns": null,
      "grid_template_rows": null,
      "height": null,
      "justify_content": null,
      "justify_items": null,
      "left": null,
      "margin": null,
      "max_height": null,
      "max_width": null,
      "min_height": null,
      "min_width": null,
      "object_fit": null,
      "object_position": null,
      "order": null,
      "overflow": null,
      "overflow_x": null,
      "overflow_y": null,
      "padding": null,
      "right": null,
      "top": null,
      "visibility": null,
      "width": null
     }
    },
    "8112452281354873a0396c9a3118c8e2": {
     "model_module": "@jupyter-widgets/controls",
     "model_name": "ProgressStyleModel",
     "state": {
      "_model_module": "@jupyter-widgets/controls",
      "_model_module_version": "1.5.0",
      "_model_name": "ProgressStyleModel",
      "_view_count": null,
      "_view_module": "@jupyter-widgets/base",
      "_view_module_version": "1.2.0",
      "_view_name": "StyleView",
      "bar_color": null,
      "description_width": "initial"
     }
    },
    "85acab04f1854e06aafe5c13f3eb0ed3": {
     "model_module": "@jupyter-widgets/base",
     "model_name": "LayoutModel",
     "state": {
      "_model_module": "@jupyter-widgets/base",
      "_model_module_version": "1.2.0",
      "_model_name": "LayoutModel",
      "_view_count": null,
      "_view_module": "@jupyter-widgets/base",
      "_view_module_version": "1.2.0",
      "_view_name": "LayoutView",
      "align_content": null,
      "align_items": null,
      "align_self": null,
      "border": null,
      "bottom": null,
      "display": null,
      "flex": null,
      "flex_flow": null,
      "grid_area": null,
      "grid_auto_columns": null,
      "grid_auto_flow": null,
      "grid_auto_rows": null,
      "grid_column": null,
      "grid_gap": null,
      "grid_row": null,
      "grid_template_areas": null,
      "grid_template_columns": null,
      "grid_template_rows": null,
      "height": null,
      "justify_content": null,
      "justify_items": null,
      "left": null,
      "margin": null,
      "max_height": null,
      "max_width": null,
      "min_height": null,
      "min_width": null,
      "object_fit": null,
      "object_position": null,
      "order": null,
      "overflow": null,
      "overflow_x": null,
      "overflow_y": null,
      "padding": null,
      "right": null,
      "top": null,
      "visibility": null,
      "width": null
     }
    },
    "87019e974aac41e1b528b290e432f21d": {
     "model_module": "@jupyter-widgets/controls",
     "model_name": "ProgressStyleModel",
     "state": {
      "_model_module": "@jupyter-widgets/controls",
      "_model_module_version": "1.5.0",
      "_model_name": "ProgressStyleModel",
      "_view_count": null,
      "_view_module": "@jupyter-widgets/base",
      "_view_module_version": "1.2.0",
      "_view_name": "StyleView",
      "bar_color": null,
      "description_width": "initial"
     }
    },
    "900fa757070942fdb73cbcd8c61b5544": {
     "model_module": "@jupyter-widgets/controls",
     "model_name": "HBoxModel",
     "state": {
      "_dom_classes": [],
      "_model_module": "@jupyter-widgets/controls",
      "_model_module_version": "1.5.0",
      "_model_name": "HBoxModel",
      "_view_count": null,
      "_view_module": "@jupyter-widgets/controls",
      "_view_module_version": "1.5.0",
      "_view_name": "HBoxView",
      "box_style": "",
      "children": [
       "IPY_MODEL_ac237fed1b6e4200acf471c783d6e426",
       "IPY_MODEL_77f2d4d5680645b996e93dcfe8b5c2b5"
      ],
      "layout": "IPY_MODEL_729c80ae3aa74be1ae1f157240e00072"
     }
    },
    "9a08e9167532433ba5af9016d1e01932": {
     "model_module": "@jupyter-widgets/controls",
     "model_name": "ProgressStyleModel",
     "state": {
      "_model_module": "@jupyter-widgets/controls",
      "_model_module_version": "1.5.0",
      "_model_name": "ProgressStyleModel",
      "_view_count": null,
      "_view_module": "@jupyter-widgets/base",
      "_view_module_version": "1.2.0",
      "_view_name": "StyleView",
      "bar_color": null,
      "description_width": "initial"
     }
    },
    "9a1230362ae143cd9bdf8f574d5714ac": {
     "model_module": "@jupyter-widgets/controls",
     "model_name": "DescriptionStyleModel",
     "state": {
      "_model_module": "@jupyter-widgets/controls",
      "_model_module_version": "1.5.0",
      "_model_name": "DescriptionStyleModel",
      "_view_count": null,
      "_view_module": "@jupyter-widgets/base",
      "_view_module_version": "1.2.0",
      "_view_name": "StyleView",
      "description_width": ""
     }
    },
    "9c0ec3afbb234fa8a247cd5270d16b3d": {
     "model_module": "@jupyter-widgets/base",
     "model_name": "LayoutModel",
     "state": {
      "_model_module": "@jupyter-widgets/base",
      "_model_module_version": "1.2.0",
      "_model_name": "LayoutModel",
      "_view_count": null,
      "_view_module": "@jupyter-widgets/base",
      "_view_module_version": "1.2.0",
      "_view_name": "LayoutView",
      "align_content": null,
      "align_items": null,
      "align_self": null,
      "border": null,
      "bottom": null,
      "display": null,
      "flex": null,
      "flex_flow": null,
      "grid_area": null,
      "grid_auto_columns": null,
      "grid_auto_flow": null,
      "grid_auto_rows": null,
      "grid_column": null,
      "grid_gap": null,
      "grid_row": null,
      "grid_template_areas": null,
      "grid_template_columns": null,
      "grid_template_rows": null,
      "height": null,
      "justify_content": null,
      "justify_items": null,
      "left": null,
      "margin": null,
      "max_height": null,
      "max_width": null,
      "min_height": null,
      "min_width": null,
      "object_fit": null,
      "object_position": null,
      "order": null,
      "overflow": null,
      "overflow_x": null,
      "overflow_y": null,
      "padding": null,
      "right": null,
      "top": null,
      "visibility": null,
      "width": null
     }
    },
    "9c6c6cca97b64fbe8fd84503b3eb8c52": {
     "model_module": "@jupyter-widgets/base",
     "model_name": "LayoutModel",
     "state": {
      "_model_module": "@jupyter-widgets/base",
      "_model_module_version": "1.2.0",
      "_model_name": "LayoutModel",
      "_view_count": null,
      "_view_module": "@jupyter-widgets/base",
      "_view_module_version": "1.2.0",
      "_view_name": "LayoutView",
      "align_content": null,
      "align_items": null,
      "align_self": null,
      "border": null,
      "bottom": null,
      "display": null,
      "flex": null,
      "flex_flow": null,
      "grid_area": null,
      "grid_auto_columns": null,
      "grid_auto_flow": null,
      "grid_auto_rows": null,
      "grid_column": null,
      "grid_gap": null,
      "grid_row": null,
      "grid_template_areas": null,
      "grid_template_columns": null,
      "grid_template_rows": null,
      "height": null,
      "justify_content": null,
      "justify_items": null,
      "left": null,
      "margin": null,
      "max_height": null,
      "max_width": null,
      "min_height": null,
      "min_width": null,
      "object_fit": null,
      "object_position": null,
      "order": null,
      "overflow": null,
      "overflow_x": null,
      "overflow_y": null,
      "padding": null,
      "right": null,
      "top": null,
      "visibility": null,
      "width": null
     }
    },
    "9d07d9d47a6141bba16cedab4c458535": {
     "model_module": "@jupyter-widgets/controls",
     "model_name": "HBoxModel",
     "state": {
      "_dom_classes": [],
      "_model_module": "@jupyter-widgets/controls",
      "_model_module_version": "1.5.0",
      "_model_name": "HBoxModel",
      "_view_count": null,
      "_view_module": "@jupyter-widgets/controls",
      "_view_module_version": "1.5.0",
      "_view_name": "HBoxView",
      "box_style": "",
      "children": [
       "IPY_MODEL_1687139e36ee4e13ae7bf86d84849c87",
       "IPY_MODEL_d1251abaea61447797d193052bfc3851"
      ],
      "layout": "IPY_MODEL_9c0ec3afbb234fa8a247cd5270d16b3d"
     }
    },
    "9fc106c996c84d539a62b88f2c0383a0": {
     "model_module": "@jupyter-widgets/controls",
     "model_name": "ProgressStyleModel",
     "state": {
      "_model_module": "@jupyter-widgets/controls",
      "_model_module_version": "1.5.0",
      "_model_name": "ProgressStyleModel",
      "_view_count": null,
      "_view_module": "@jupyter-widgets/base",
      "_view_module_version": "1.2.0",
      "_view_name": "StyleView",
      "bar_color": null,
      "description_width": "initial"
     }
    },
    "a116f62391184d90a5a673338691ea97": {
     "model_module": "@jupyter-widgets/controls",
     "model_name": "DescriptionStyleModel",
     "state": {
      "_model_module": "@jupyter-widgets/controls",
      "_model_module_version": "1.5.0",
      "_model_name": "DescriptionStyleModel",
      "_view_count": null,
      "_view_module": "@jupyter-widgets/base",
      "_view_module_version": "1.2.0",
      "_view_name": "StyleView",
      "description_width": ""
     }
    },
    "a5a237b10b9f4c08a4a050641588bd76": {
     "model_module": "@jupyter-widgets/base",
     "model_name": "LayoutModel",
     "state": {
      "_model_module": "@jupyter-widgets/base",
      "_model_module_version": "1.2.0",
      "_model_name": "LayoutModel",
      "_view_count": null,
      "_view_module": "@jupyter-widgets/base",
      "_view_module_version": "1.2.0",
      "_view_name": "LayoutView",
      "align_content": null,
      "align_items": null,
      "align_self": null,
      "border": null,
      "bottom": null,
      "display": null,
      "flex": null,
      "flex_flow": null,
      "grid_area": null,
      "grid_auto_columns": null,
      "grid_auto_flow": null,
      "grid_auto_rows": null,
      "grid_column": null,
      "grid_gap": null,
      "grid_row": null,
      "grid_template_areas": null,
      "grid_template_columns": null,
      "grid_template_rows": null,
      "height": null,
      "justify_content": null,
      "justify_items": null,
      "left": null,
      "margin": null,
      "max_height": null,
      "max_width": null,
      "min_height": null,
      "min_width": null,
      "object_fit": null,
      "object_position": null,
      "order": null,
      "overflow": null,
      "overflow_x": null,
      "overflow_y": null,
      "padding": null,
      "right": null,
      "top": null,
      "visibility": null,
      "width": null
     }
    },
    "a6c1e0404cb14a118e6de90e324d6e8a": {
     "model_module": "@jupyter-widgets/base",
     "model_name": "LayoutModel",
     "state": {
      "_model_module": "@jupyter-widgets/base",
      "_model_module_version": "1.2.0",
      "_model_name": "LayoutModel",
      "_view_count": null,
      "_view_module": "@jupyter-widgets/base",
      "_view_module_version": "1.2.0",
      "_view_name": "LayoutView",
      "align_content": null,
      "align_items": null,
      "align_self": null,
      "border": null,
      "bottom": null,
      "display": null,
      "flex": null,
      "flex_flow": null,
      "grid_area": null,
      "grid_auto_columns": null,
      "grid_auto_flow": null,
      "grid_auto_rows": null,
      "grid_column": null,
      "grid_gap": null,
      "grid_row": null,
      "grid_template_areas": null,
      "grid_template_columns": null,
      "grid_template_rows": null,
      "height": null,
      "justify_content": null,
      "justify_items": null,
      "left": null,
      "margin": null,
      "max_height": null,
      "max_width": null,
      "min_height": null,
      "min_width": null,
      "object_fit": null,
      "object_position": null,
      "order": null,
      "overflow": null,
      "overflow_x": null,
      "overflow_y": null,
      "padding": null,
      "right": null,
      "top": null,
      "visibility": null,
      "width": null
     }
    },
    "a7294944708940f289361f42b55a4b16": {
     "model_module": "@jupyter-widgets/base",
     "model_name": "LayoutModel",
     "state": {
      "_model_module": "@jupyter-widgets/base",
      "_model_module_version": "1.2.0",
      "_model_name": "LayoutModel",
      "_view_count": null,
      "_view_module": "@jupyter-widgets/base",
      "_view_module_version": "1.2.0",
      "_view_name": "LayoutView",
      "align_content": null,
      "align_items": null,
      "align_self": null,
      "border": null,
      "bottom": null,
      "display": null,
      "flex": null,
      "flex_flow": null,
      "grid_area": null,
      "grid_auto_columns": null,
      "grid_auto_flow": null,
      "grid_auto_rows": null,
      "grid_column": null,
      "grid_gap": null,
      "grid_row": null,
      "grid_template_areas": null,
      "grid_template_columns": null,
      "grid_template_rows": null,
      "height": null,
      "justify_content": null,
      "justify_items": null,
      "left": null,
      "margin": null,
      "max_height": null,
      "max_width": null,
      "min_height": null,
      "min_width": null,
      "object_fit": null,
      "object_position": null,
      "order": null,
      "overflow": null,
      "overflow_x": null,
      "overflow_y": null,
      "padding": null,
      "right": null,
      "top": null,
      "visibility": null,
      "width": null
     }
    },
    "a87b0ed5a64a4a8d8714752cbaa4304c": {
     "model_module": "@jupyter-widgets/controls",
     "model_name": "FloatProgressModel",
     "state": {
      "_dom_classes": [],
      "_model_module": "@jupyter-widgets/controls",
      "_model_module_version": "1.5.0",
      "_model_name": "FloatProgressModel",
      "_view_count": null,
      "_view_module": "@jupyter-widgets/controls",
      "_view_module_version": "1.5.0",
      "_view_name": "ProgressView",
      "bar_style": "success",
      "description": "100%",
      "description_tooltip": null,
      "layout": "IPY_MODEL_0ac913b46eff40deb1d128f1d96db9f9",
      "max": 110,
      "min": 0,
      "orientation": "horizontal",
      "style": "IPY_MODEL_8112452281354873a0396c9a3118c8e2",
      "value": 110
     }
    },
    "ac237fed1b6e4200acf471c783d6e426": {
     "model_module": "@jupyter-widgets/controls",
     "model_name": "FloatProgressModel",
     "state": {
      "_dom_classes": [],
      "_model_module": "@jupyter-widgets/controls",
      "_model_module_version": "1.5.0",
      "_model_name": "FloatProgressModel",
      "_view_count": null,
      "_view_module": "@jupyter-widgets/controls",
      "_view_module_version": "1.5.0",
      "_view_name": "ProgressView",
      "bar_style": "success",
      "description": "100%",
      "description_tooltip": null,
      "layout": "IPY_MODEL_6e64f64cecdd453e9b7d4e9a71bfff3e",
      "max": 110,
      "min": 0,
      "orientation": "horizontal",
      "style": "IPY_MODEL_5d888bd7384d4cfaaa71b9fc480956b4",
      "value": 110
     }
    },
    "afaef090daad474391af06283f8fd826": {
     "model_module": "@jupyter-widgets/controls",
     "model_name": "ProgressStyleModel",
     "state": {
      "_model_module": "@jupyter-widgets/controls",
      "_model_module_version": "1.5.0",
      "_model_name": "ProgressStyleModel",
      "_view_count": null,
      "_view_module": "@jupyter-widgets/base",
      "_view_module_version": "1.2.0",
      "_view_name": "StyleView",
      "bar_color": null,
      "description_width": "initial"
     }
    },
    "b0a44af292b749e8852bfb05438e1a96": {
     "model_module": "@jupyter-widgets/controls",
     "model_name": "HBoxModel",
     "state": {
      "_dom_classes": [],
      "_model_module": "@jupyter-widgets/controls",
      "_model_module_version": "1.5.0",
      "_model_name": "HBoxModel",
      "_view_count": null,
      "_view_module": "@jupyter-widgets/controls",
      "_view_module_version": "1.5.0",
      "_view_name": "HBoxView",
      "box_style": "",
      "children": [
       "IPY_MODEL_c45bf5b91ad74137876af01a5ecf54f3",
       "IPY_MODEL_5449aa678ad64eeabd21dcc10eeff1c3"
      ],
      "layout": "IPY_MODEL_583dffbee00a4690ba650267032c76bb"
     }
    },
    "b1e160198a7d4f33a401a32f9d5d58f4": {
     "model_module": "@jupyter-widgets/controls",
     "model_name": "DescriptionStyleModel",
     "state": {
      "_model_module": "@jupyter-widgets/controls",
      "_model_module_version": "1.5.0",
      "_model_name": "DescriptionStyleModel",
      "_view_count": null,
      "_view_module": "@jupyter-widgets/base",
      "_view_module_version": "1.2.0",
      "_view_name": "StyleView",
      "description_width": ""
     }
    },
    "b2680569801148a7ae7b808d60800604": {
     "model_module": "@jupyter-widgets/controls",
     "model_name": "HTMLModel",
     "state": {
      "_dom_classes": [],
      "_model_module": "@jupyter-widgets/controls",
      "_model_module_version": "1.5.0",
      "_model_name": "HTMLModel",
      "_view_count": null,
      "_view_module": "@jupyter-widgets/controls",
      "_view_module_version": "1.5.0",
      "_view_name": "HTMLView",
      "description": "",
      "description_tooltip": null,
      "layout": "IPY_MODEL_075916b7ac324160966a91d5309b1522",
      "placeholder": "​",
      "style": "IPY_MODEL_6bbbf858c2d841da8ad4c341641cfe42",
      "value": " 110/110 [14:16&lt;00:00,  7.79s/it]"
     }
    },
    "b2f6e7e8817340028b259b60cd3b5dc6": {
     "model_module": "@jupyter-widgets/controls",
     "model_name": "DescriptionStyleModel",
     "state": {
      "_model_module": "@jupyter-widgets/controls",
      "_model_module_version": "1.5.0",
      "_model_name": "DescriptionStyleModel",
      "_view_count": null,
      "_view_module": "@jupyter-widgets/base",
      "_view_module_version": "1.2.0",
      "_view_name": "StyleView",
      "description_width": ""
     }
    },
    "b80d9c8d3e014c54a4cbed28df2e5cbf": {
     "model_module": "@jupyter-widgets/controls",
     "model_name": "DescriptionStyleModel",
     "state": {
      "_model_module": "@jupyter-widgets/controls",
      "_model_module_version": "1.5.0",
      "_model_name": "DescriptionStyleModel",
      "_view_count": null,
      "_view_module": "@jupyter-widgets/base",
      "_view_module_version": "1.2.0",
      "_view_name": "StyleView",
      "description_width": ""
     }
    },
    "c08c47980286401c9d6dbed5a6367324": {
     "model_module": "@jupyter-widgets/base",
     "model_name": "LayoutModel",
     "state": {
      "_model_module": "@jupyter-widgets/base",
      "_model_module_version": "1.2.0",
      "_model_name": "LayoutModel",
      "_view_count": null,
      "_view_module": "@jupyter-widgets/base",
      "_view_module_version": "1.2.0",
      "_view_name": "LayoutView",
      "align_content": null,
      "align_items": null,
      "align_self": null,
      "border": null,
      "bottom": null,
      "display": null,
      "flex": null,
      "flex_flow": null,
      "grid_area": null,
      "grid_auto_columns": null,
      "grid_auto_flow": null,
      "grid_auto_rows": null,
      "grid_column": null,
      "grid_gap": null,
      "grid_row": null,
      "grid_template_areas": null,
      "grid_template_columns": null,
      "grid_template_rows": null,
      "height": null,
      "justify_content": null,
      "justify_items": null,
      "left": null,
      "margin": null,
      "max_height": null,
      "max_width": null,
      "min_height": null,
      "min_width": null,
      "object_fit": null,
      "object_position": null,
      "order": null,
      "overflow": null,
      "overflow_x": null,
      "overflow_y": null,
      "padding": null,
      "right": null,
      "top": null,
      "visibility": null,
      "width": null
     }
    },
    "c0a1d085795243b18ce5686f618fc44f": {
     "model_module": "@jupyter-widgets/controls",
     "model_name": "DescriptionStyleModel",
     "state": {
      "_model_module": "@jupyter-widgets/controls",
      "_model_module_version": "1.5.0",
      "_model_name": "DescriptionStyleModel",
      "_view_count": null,
      "_view_module": "@jupyter-widgets/base",
      "_view_module_version": "1.2.0",
      "_view_name": "StyleView",
      "description_width": ""
     }
    },
    "c184ddba2a9c44aa862d9977d52547d6": {
     "model_module": "@jupyter-widgets/controls",
     "model_name": "HBoxModel",
     "state": {
      "_dom_classes": [],
      "_model_module": "@jupyter-widgets/controls",
      "_model_module_version": "1.5.0",
      "_model_name": "HBoxModel",
      "_view_count": null,
      "_view_module": "@jupyter-widgets/controls",
      "_view_module_version": "1.5.0",
      "_view_name": "HBoxView",
      "box_style": "",
      "children": [
       "IPY_MODEL_07f2e61460ea4296828b4aa49560af59",
       "IPY_MODEL_7bf90d2d2a3e404e8dd344c908975712"
      ],
      "layout": "IPY_MODEL_a7294944708940f289361f42b55a4b16"
     }
    },
    "c45bf5b91ad74137876af01a5ecf54f3": {
     "model_module": "@jupyter-widgets/controls",
     "model_name": "FloatProgressModel",
     "state": {
      "_dom_classes": [],
      "_model_module": "@jupyter-widgets/controls",
      "_model_module_version": "1.5.0",
      "_model_name": "FloatProgressModel",
      "_view_count": null,
      "_view_module": "@jupyter-widgets/controls",
      "_view_module_version": "1.5.0",
      "_view_name": "ProgressView",
      "bar_style": "success",
      "description": "100%",
      "description_tooltip": null,
      "layout": "IPY_MODEL_14c00c3a6b59488fb2a40beb65f6cd90",
      "max": 110,
      "min": 0,
      "orientation": "horizontal",
      "style": "IPY_MODEL_245fd878aabd4004a99e1351eb4c730d",
      "value": 110
     }
    },
    "cddcfb6f11c14a11ac815208e1ee1d6b": {
     "model_module": "@jupyter-widgets/base",
     "model_name": "LayoutModel",
     "state": {
      "_model_module": "@jupyter-widgets/base",
      "_model_module_version": "1.2.0",
      "_model_name": "LayoutModel",
      "_view_count": null,
      "_view_module": "@jupyter-widgets/base",
      "_view_module_version": "1.2.0",
      "_view_name": "LayoutView",
      "align_content": null,
      "align_items": null,
      "align_self": null,
      "border": null,
      "bottom": null,
      "display": null,
      "flex": null,
      "flex_flow": null,
      "grid_area": null,
      "grid_auto_columns": null,
      "grid_auto_flow": null,
      "grid_auto_rows": null,
      "grid_column": null,
      "grid_gap": null,
      "grid_row": null,
      "grid_template_areas": null,
      "grid_template_columns": null,
      "grid_template_rows": null,
      "height": null,
      "justify_content": null,
      "justify_items": null,
      "left": null,
      "margin": null,
      "max_height": null,
      "max_width": null,
      "min_height": null,
      "min_width": null,
      "object_fit": null,
      "object_position": null,
      "order": null,
      "overflow": null,
      "overflow_x": null,
      "overflow_y": null,
      "padding": null,
      "right": null,
      "top": null,
      "visibility": null,
      "width": null
     }
    },
    "d1251abaea61447797d193052bfc3851": {
     "model_module": "@jupyter-widgets/controls",
     "model_name": "HTMLModel",
     "state": {
      "_dom_classes": [],
      "_model_module": "@jupyter-widgets/controls",
      "_model_module_version": "1.5.0",
      "_model_name": "HTMLModel",
      "_view_count": null,
      "_view_module": "@jupyter-widgets/controls",
      "_view_module_version": "1.5.0",
      "_view_name": "HTMLView",
      "description": "",
      "description_tooltip": null,
      "layout": "IPY_MODEL_0c14a4869c644958a4382dc239717653",
      "placeholder": "​",
      "style": "IPY_MODEL_9a1230362ae143cd9bdf8f574d5714ac",
      "value": " 83.3M/83.3M [12:19&lt;00:00, 118kB/s]"
     }
    },
    "d7e4987ef1914d5d84abb05aab88f440": {
     "model_module": "@jupyter-widgets/base",
     "model_name": "LayoutModel",
     "state": {
      "_model_module": "@jupyter-widgets/base",
      "_model_module_version": "1.2.0",
      "_model_name": "LayoutModel",
      "_view_count": null,
      "_view_module": "@jupyter-widgets/base",
      "_view_module_version": "1.2.0",
      "_view_name": "LayoutView",
      "align_content": null,
      "align_items": null,
      "align_self": null,
      "border": null,
      "bottom": null,
      "display": null,
      "flex": null,
      "flex_flow": null,
      "grid_area": null,
      "grid_auto_columns": null,
      "grid_auto_flow": null,
      "grid_auto_rows": null,
      "grid_column": null,
      "grid_gap": null,
      "grid_row": null,
      "grid_template_areas": null,
      "grid_template_columns": null,
      "grid_template_rows": null,
      "height": null,
      "justify_content": null,
      "justify_items": null,
      "left": null,
      "margin": null,
      "max_height": null,
      "max_width": null,
      "min_height": null,
      "min_width": null,
      "object_fit": null,
      "object_position": null,
      "order": null,
      "overflow": null,
      "overflow_x": null,
      "overflow_y": null,
      "padding": null,
      "right": null,
      "top": null,
      "visibility": null,
      "width": null
     }
    },
    "d8bb1282c34446c696bb4f27e5792e32": {
     "model_module": "@jupyter-widgets/controls",
     "model_name": "FloatProgressModel",
     "state": {
      "_dom_classes": [],
      "_model_module": "@jupyter-widgets/controls",
      "_model_module_version": "1.5.0",
      "_model_name": "FloatProgressModel",
      "_view_count": null,
      "_view_module": "@jupyter-widgets/controls",
      "_view_module_version": "1.5.0",
      "_view_name": "ProgressView",
      "bar_style": "success",
      "description": "100%",
      "description_tooltip": null,
      "layout": "IPY_MODEL_061409b20b1c4213ae7744957898066d",
      "max": 110,
      "min": 0,
      "orientation": "horizontal",
      "style": "IPY_MODEL_5083ade3ab50441eac3ff7d53172fb1d",
      "value": 110
     }
    },
    "df4bdc27e61b4757b50eb8e2ce4238e6": {
     "model_module": "@jupyter-widgets/controls",
     "model_name": "HBoxModel",
     "state": {
      "_dom_classes": [],
      "_model_module": "@jupyter-widgets/controls",
      "_model_module_version": "1.5.0",
      "_model_name": "HBoxModel",
      "_view_count": null,
      "_view_module": "@jupyter-widgets/controls",
      "_view_module_version": "1.5.0",
      "_view_name": "HBoxView",
      "box_style": "",
      "children": [
       "IPY_MODEL_a87b0ed5a64a4a8d8714752cbaa4304c",
       "IPY_MODEL_5ee32cfa80b948a9b9c8bfd2785ea881"
      ],
      "layout": "IPY_MODEL_0af34456a8fc4e50aa42f0ccd191f904"
     }
    },
    "e137969da6544d0fbf80843a35e14a8c": {
     "model_module": "@jupyter-widgets/controls",
     "model_name": "HBoxModel",
     "state": {
      "_dom_classes": [],
      "_model_module": "@jupyter-widgets/controls",
      "_model_module_version": "1.5.0",
      "_model_name": "HBoxModel",
      "_view_count": null,
      "_view_module": "@jupyter-widgets/controls",
      "_view_module_version": "1.5.0",
      "_view_name": "HBoxView",
      "box_style": "",
      "children": [
       "IPY_MODEL_260210c020934d2794b3acd797d08078",
       "IPY_MODEL_572f03655e37464785b90610d5ea27c9"
      ],
      "layout": "IPY_MODEL_6d8f8dccf6eb42f2b63c027eacbe5491"
     }
    },
    "e47412fe630d41afaf6ed370d6f4a7bf": {
     "model_module": "@jupyter-widgets/base",
     "model_name": "LayoutModel",
     "state": {
      "_model_module": "@jupyter-widgets/base",
      "_model_module_version": "1.2.0",
      "_model_name": "LayoutModel",
      "_view_count": null,
      "_view_module": "@jupyter-widgets/base",
      "_view_module_version": "1.2.0",
      "_view_name": "LayoutView",
      "align_content": null,
      "align_items": null,
      "align_self": null,
      "border": null,
      "bottom": null,
      "display": null,
      "flex": null,
      "flex_flow": null,
      "grid_area": null,
      "grid_auto_columns": null,
      "grid_auto_flow": null,
      "grid_auto_rows": null,
      "grid_column": null,
      "grid_gap": null,
      "grid_row": null,
      "grid_template_areas": null,
      "grid_template_columns": null,
      "grid_template_rows": null,
      "height": null,
      "justify_content": null,
      "justify_items": null,
      "left": null,
      "margin": null,
      "max_height": null,
      "max_width": null,
      "min_height": null,
      "min_width": null,
      "object_fit": null,
      "object_position": null,
      "order": null,
      "overflow": null,
      "overflow_x": null,
      "overflow_y": null,
      "padding": null,
      "right": null,
      "top": null,
      "visibility": null,
      "width": null
     }
    },
    "e7fbe9f538c0429a92d86a6b1b4f8b6e": {
     "model_module": "@jupyter-widgets/base",
     "model_name": "LayoutModel",
     "state": {
      "_model_module": "@jupyter-widgets/base",
      "_model_module_version": "1.2.0",
      "_model_name": "LayoutModel",
      "_view_count": null,
      "_view_module": "@jupyter-widgets/base",
      "_view_module_version": "1.2.0",
      "_view_name": "LayoutView",
      "align_content": null,
      "align_items": null,
      "align_self": null,
      "border": null,
      "bottom": null,
      "display": null,
      "flex": null,
      "flex_flow": null,
      "grid_area": null,
      "grid_auto_columns": null,
      "grid_auto_flow": null,
      "grid_auto_rows": null,
      "grid_column": null,
      "grid_gap": null,
      "grid_row": null,
      "grid_template_areas": null,
      "grid_template_columns": null,
      "grid_template_rows": null,
      "height": null,
      "justify_content": null,
      "justify_items": null,
      "left": null,
      "margin": null,
      "max_height": null,
      "max_width": null,
      "min_height": null,
      "min_width": null,
      "object_fit": null,
      "object_position": null,
      "order": null,
      "overflow": null,
      "overflow_x": null,
      "overflow_y": null,
      "padding": null,
      "right": null,
      "top": null,
      "visibility": null,
      "width": null
     }
    },
    "e8a23c6f8fbb4bf78fdb819d4adf8995": {
     "model_module": "@jupyter-widgets/controls",
     "model_name": "HTMLModel",
     "state": {
      "_dom_classes": [],
      "_model_module": "@jupyter-widgets/controls",
      "_model_module_version": "1.5.0",
      "_model_name": "HTMLModel",
      "_view_count": null,
      "_view_module": "@jupyter-widgets/controls",
      "_view_module_version": "1.5.0",
      "_view_name": "HTMLView",
      "description": "",
      "description_tooltip": null,
      "layout": "IPY_MODEL_cddcfb6f11c14a11ac815208e1ee1d6b",
      "placeholder": "​",
      "style": "IPY_MODEL_162716710e904819ab164776cd0e76bd",
      "value": " 110/110 [01:39&lt;00:00,  1.11it/s]"
     }
    },
    "f62299ce508243c98b12f0b1355b15a8": {
     "model_module": "@jupyter-widgets/controls",
     "model_name": "FloatProgressModel",
     "state": {
      "_dom_classes": [],
      "_model_module": "@jupyter-widgets/controls",
      "_model_module_version": "1.5.0",
      "_model_name": "FloatProgressModel",
      "_view_count": null,
      "_view_module": "@jupyter-widgets/controls",
      "_view_module_version": "1.5.0",
      "_view_name": "ProgressView",
      "bar_style": "success",
      "description": "100%",
      "description_tooltip": null,
      "layout": "IPY_MODEL_a5a237b10b9f4c08a4a050641588bd76",
      "max": 110,
      "min": 0,
      "orientation": "horizontal",
      "style": "IPY_MODEL_4dc353c1ab374a9dbb0a69100abcd408",
      "value": 110
     }
    },
    "f6a2446c89684ba397438aaadd64724b": {
     "model_module": "@jupyter-widgets/controls",
     "model_name": "HTMLModel",
     "state": {
      "_dom_classes": [],
      "_model_module": "@jupyter-widgets/controls",
      "_model_module_version": "1.5.0",
      "_model_name": "HTMLModel",
      "_view_count": null,
      "_view_module": "@jupyter-widgets/controls",
      "_view_module_version": "1.5.0",
      "_view_name": "HTMLView",
      "description": "",
      "description_tooltip": null,
      "layout": "IPY_MODEL_7fe2bc1bf20a4bc6822dd8ce61bea13c",
      "placeholder": "​",
      "style": "IPY_MODEL_6bc6a9e632c346189ea9e3f93e2f20bf",
      "value": " 110/110 [01:07&lt;00:00,  1.64it/s]"
     }
    },
    "fa8d8efd305c445a8d732c179f784e24": {
     "model_module": "@jupyter-widgets/controls",
     "model_name": "FloatProgressModel",
     "state": {
      "_dom_classes": [],
      "_model_module": "@jupyter-widgets/controls",
      "_model_module_version": "1.5.0",
      "_model_name": "FloatProgressModel",
      "_view_count": null,
      "_view_module": "@jupyter-widgets/controls",
      "_view_module_version": "1.5.0",
      "_view_name": "ProgressView",
      "bar_style": "success",
      "description": "100%",
      "description_tooltip": null,
      "layout": "IPY_MODEL_7c94058ebb1a41ffb753b5af556fc7fb",
      "max": 110,
      "min": 0,
      "orientation": "horizontal",
      "style": "IPY_MODEL_9a08e9167532433ba5af9016d1e01932",
      "value": 110
     }
    }
   }
  }
 },
 "nbformat": 4,
 "nbformat_minor": 0
}